{
 "cells": [
  {
   "cell_type": "markdown",
   "id": "3a6d63c3-874a-4968-99a4-b989a5d4edef",
   "metadata": {},
   "source": [
    "# NLP(TUKEY)"
   ]
  },
  {
   "cell_type": "markdown",
   "id": "de75049e-6242-45a5-bb2c-b0aad50a67b8",
   "metadata": {},
   "source": [
    "# Luis Melendez"
   ]
  },
  {
   "cell_type": "markdown",
   "id": "5d63db9f-b126-4097-81b6-a1357b31b545",
   "metadata": {},
   "source": [
    "CARGAR TXT"
   ]
  },
  {
   "cell_type": "code",
   "execution_count": 197,
   "id": "2a136122-b611-43c6-b6ee-4b9adc00b5d6",
   "metadata": {},
   "outputs": [
    {
     "data": {
      "text/html": [
       "<div>\n",
       "<style scoped>\n",
       "    .dataframe tbody tr th:only-of-type {\n",
       "        vertical-align: middle;\n",
       "    }\n",
       "\n",
       "    .dataframe tbody tr th {\n",
       "        vertical-align: top;\n",
       "    }\n",
       "\n",
       "    .dataframe thead th {\n",
       "        text-align: right;\n",
       "    }\n",
       "</style>\n",
       "<table border=\"1\" class=\"dataframe\">\n",
       "  <thead>\n",
       "    <tr style=\"text-align: right;\">\n",
       "      <th></th>\n",
       "      <th>Comentario</th>\n",
       "      <th>Emocion</th>\n",
       "    </tr>\n",
       "  </thead>\n",
       "  <tbody>\n",
       "    <tr>\n",
       "      <th>0</th>\n",
       "      <td>im feeling rather rotten so im not very ambiti...</td>\n",
       "      <td>sadness</td>\n",
       "    </tr>\n",
       "    <tr>\n",
       "      <th>1</th>\n",
       "      <td>im updating my blog because i feel shitty</td>\n",
       "      <td>sadness</td>\n",
       "    </tr>\n",
       "    <tr>\n",
       "      <th>2</th>\n",
       "      <td>i never make her separate from me because i do...</td>\n",
       "      <td>sadness</td>\n",
       "    </tr>\n",
       "    <tr>\n",
       "      <th>3</th>\n",
       "      <td>i left with my bouquet of red and yellow tulip...</td>\n",
       "      <td>joy</td>\n",
       "    </tr>\n",
       "    <tr>\n",
       "      <th>4</th>\n",
       "      <td>i was feeling a little vain when i did this one</td>\n",
       "      <td>sadness</td>\n",
       "    </tr>\n",
       "    <tr>\n",
       "      <th>...</th>\n",
       "      <td>...</td>\n",
       "      <td>...</td>\n",
       "    </tr>\n",
       "    <tr>\n",
       "      <th>1995</th>\n",
       "      <td>i just keep feeling like someone is being unki...</td>\n",
       "      <td>anger</td>\n",
       "    </tr>\n",
       "    <tr>\n",
       "      <th>1996</th>\n",
       "      <td>im feeling a little cranky negative after this...</td>\n",
       "      <td>anger</td>\n",
       "    </tr>\n",
       "    <tr>\n",
       "      <th>1997</th>\n",
       "      <td>i feel that i am useful to my people and that ...</td>\n",
       "      <td>joy</td>\n",
       "    </tr>\n",
       "    <tr>\n",
       "      <th>1998</th>\n",
       "      <td>im feeling more comfortable with derby i feel ...</td>\n",
       "      <td>joy</td>\n",
       "    </tr>\n",
       "    <tr>\n",
       "      <th>1999</th>\n",
       "      <td>i feel all weird when i have to meet w people ...</td>\n",
       "      <td>fear</td>\n",
       "    </tr>\n",
       "  </tbody>\n",
       "</table>\n",
       "<p>2000 rows × 2 columns</p>\n",
       "</div>"
      ],
      "text/plain": [
       "                                             Comentario  Emocion\n",
       "0     im feeling rather rotten so im not very ambiti...  sadness\n",
       "1             im updating my blog because i feel shitty  sadness\n",
       "2     i never make her separate from me because i do...  sadness\n",
       "3     i left with my bouquet of red and yellow tulip...      joy\n",
       "4       i was feeling a little vain when i did this one  sadness\n",
       "...                                                 ...      ...\n",
       "1995  i just keep feeling like someone is being unki...    anger\n",
       "1996  im feeling a little cranky negative after this...    anger\n",
       "1997  i feel that i am useful to my people and that ...      joy\n",
       "1998  im feeling more comfortable with derby i feel ...      joy\n",
       "1999  i feel all weird when i have to meet w people ...     fear\n",
       "\n",
       "[2000 rows x 2 columns]"
      ]
     },
     "execution_count": 197,
     "metadata": {},
     "output_type": "execute_result"
    }
   ],
   "source": [
    "import pandas as pd\n",
    "\n",
    "with open('test.txt', 'r', encoding='utf-8') as f:\n",
    "    lineas = f.readlines()\n",
    "data = [line.strip().split(';') for line in lineas if ';' in line]\n",
    "df = pd.DataFrame(data, columns=['Comentario', 'Emocion'])\n",
    "df"
   ]
  },
  {
   "cell_type": "markdown",
   "id": "c4d000e2-692f-4998-a841-acf5d8387a73",
   "metadata": {},
   "source": [
    "# Funciones para normalizar"
   ]
  },
  {
   "cell_type": "code",
   "execution_count": 199,
   "id": "79ae193b-f3fc-46f2-ad4a-a31ca059c547",
   "metadata": {},
   "outputs": [
    {
     "name": "stderr",
     "output_type": "stream",
     "text": [
      "[nltk_data] Downloading package stopwords to\n",
      "[nltk_data]     C:\\Users\\luigu\\AppData\\Roaming\\nltk_data...\n",
      "[nltk_data]   Package stopwords is already up-to-date!\n"
     ]
    }
   ],
   "source": [
    "import nltk\n",
    "from nltk.corpus import stopwords\n",
    "nltk.download('stopwords')\n",
    "\n",
    "def minusculas(texto):\n",
    "    res = \"\"\n",
    "    for x in range(len(texto)):\n",
    "        if texto[x] >= \"A\" and texto[x] <= \"Z\":\n",
    "            res += chr(ord(texto[x])+32)\n",
    "        else:\n",
    "            res += texto[x]\n",
    "    return res\n",
    "\n",
    "def quitarPuntuacion(texto):\n",
    "    res = \"\"\n",
    "    for x in range(len(texto)):\n",
    "        if texto[x].isalnum() or texto[x].isspace():\n",
    "            res += texto[x]\n",
    "    return res\n",
    "\n",
    "def tokens(texto):\n",
    "    tokens = []\n",
    "    palabra = \"\"\n",
    "    for x in range(len(texto)):\n",
    "        if texto[x] != \" \":\n",
    "            palabra += texto[x]\n",
    "        else:\n",
    "            if len(palabra) >= 1:\n",
    "                tokens.append(palabra)\n",
    "                palabra = \"\"\n",
    "    if len(palabra) >= 1:\n",
    "        tokens.append(palabra)\n",
    "    return tokens\n",
    "\n",
    "def eliminarStopwprds(texto):\n",
    "    temp = []\n",
    "    stopWords = set(stopwords.words('english'))\n",
    "    for x in texto:\n",
    "        if not x in stopWords:\n",
    "            temp.append(x)\n",
    "    return temp\n",
    "            \n",
    "def normalizar(texto):\n",
    "    texto = minusculas(texto)\n",
    "    texto = quitarPuntuacion(texto)\n",
    "    texto = tokens(texto)\n",
    "    texto = eliminarStopwprds(texto)\n",
    "    return texto"
   ]
  },
  {
   "cell_type": "markdown",
   "id": "bad78a6b-b8f0-48f8-a4d6-99314a20f869",
   "metadata": {},
   "source": [
    "# Normalizar"
   ]
  },
  {
   "cell_type": "code",
   "execution_count": 201,
   "id": "1faa5e3c-befe-437d-8d27-0602bdc3d619",
   "metadata": {},
   "outputs": [
    {
     "data": {
      "text/html": [
       "<div>\n",
       "<style scoped>\n",
       "    .dataframe tbody tr th:only-of-type {\n",
       "        vertical-align: middle;\n",
       "    }\n",
       "\n",
       "    .dataframe tbody tr th {\n",
       "        vertical-align: top;\n",
       "    }\n",
       "\n",
       "    .dataframe thead th {\n",
       "        text-align: right;\n",
       "    }\n",
       "</style>\n",
       "<table border=\"1\" class=\"dataframe\">\n",
       "  <thead>\n",
       "    <tr style=\"text-align: right;\">\n",
       "      <th></th>\n",
       "      <th>Comentario</th>\n",
       "      <th>Emocion</th>\n",
       "      <th>Tokens</th>\n",
       "      <th>Comentario normalizado</th>\n",
       "    </tr>\n",
       "  </thead>\n",
       "  <tbody>\n",
       "    <tr>\n",
       "      <th>0</th>\n",
       "      <td>im feeling rather rotten so im not very ambiti...</td>\n",
       "      <td>sadness</td>\n",
       "      <td>[im, feeling, rather, rotten, im, ambitious, r...</td>\n",
       "      <td>im feeling rather rotten im ambitious right</td>\n",
       "    </tr>\n",
       "    <tr>\n",
       "      <th>1</th>\n",
       "      <td>im updating my blog because i feel shitty</td>\n",
       "      <td>sadness</td>\n",
       "      <td>[im, updating, blog, feel, shitty]</td>\n",
       "      <td>im updating blog feel shitty</td>\n",
       "    </tr>\n",
       "    <tr>\n",
       "      <th>2</th>\n",
       "      <td>i never make her separate from me because i do...</td>\n",
       "      <td>sadness</td>\n",
       "      <td>[never, make, separate, ever, want, feel, like...</td>\n",
       "      <td>never make separate ever want feel like ashamed</td>\n",
       "    </tr>\n",
       "    <tr>\n",
       "      <th>3</th>\n",
       "      <td>i left with my bouquet of red and yellow tulip...</td>\n",
       "      <td>joy</td>\n",
       "      <td>[left, bouquet, red, yellow, tulips, arm, feel...</td>\n",
       "      <td>left bouquet red yellow tulips arm feeling sli...</td>\n",
       "    </tr>\n",
       "    <tr>\n",
       "      <th>4</th>\n",
       "      <td>i was feeling a little vain when i did this one</td>\n",
       "      <td>sadness</td>\n",
       "      <td>[feeling, little, vain, one]</td>\n",
       "      <td>feeling little vain one</td>\n",
       "    </tr>\n",
       "    <tr>\n",
       "      <th>...</th>\n",
       "      <td>...</td>\n",
       "      <td>...</td>\n",
       "      <td>...</td>\n",
       "      <td>...</td>\n",
       "    </tr>\n",
       "    <tr>\n",
       "      <th>1995</th>\n",
       "      <td>i just keep feeling like someone is being unki...</td>\n",
       "      <td>anger</td>\n",
       "      <td>[keep, feeling, like, someone, unkind, wrong, ...</td>\n",
       "      <td>keep feeling like someone unkind wrong think g...</td>\n",
       "    </tr>\n",
       "    <tr>\n",
       "      <th>1996</th>\n",
       "      <td>im feeling a little cranky negative after this...</td>\n",
       "      <td>anger</td>\n",
       "      <td>[im, feeling, little, cranky, negative, doctor...</td>\n",
       "      <td>im feeling little cranky negative doctors appo...</td>\n",
       "    </tr>\n",
       "    <tr>\n",
       "      <th>1997</th>\n",
       "      <td>i feel that i am useful to my people and that ...</td>\n",
       "      <td>joy</td>\n",
       "      <td>[feel, useful, people, gives, great, feeling, ...</td>\n",
       "      <td>feel useful people gives great feeling achieve...</td>\n",
       "    </tr>\n",
       "    <tr>\n",
       "      <th>1998</th>\n",
       "      <td>im feeling more comfortable with derby i feel ...</td>\n",
       "      <td>joy</td>\n",
       "      <td>[im, feeling, comfortable, derby, feel, though...</td>\n",
       "      <td>im feeling comfortable derby feel though start...</td>\n",
       "    </tr>\n",
       "    <tr>\n",
       "      <th>1999</th>\n",
       "      <td>i feel all weird when i have to meet w people ...</td>\n",
       "      <td>fear</td>\n",
       "      <td>[feel, weird, meet, w, people, text, like, don...</td>\n",
       "      <td>feel weird meet w people text like dont talk f...</td>\n",
       "    </tr>\n",
       "  </tbody>\n",
       "</table>\n",
       "<p>2000 rows × 4 columns</p>\n",
       "</div>"
      ],
      "text/plain": [
       "                                             Comentario  Emocion  \\\n",
       "0     im feeling rather rotten so im not very ambiti...  sadness   \n",
       "1             im updating my blog because i feel shitty  sadness   \n",
       "2     i never make her separate from me because i do...  sadness   \n",
       "3     i left with my bouquet of red and yellow tulip...      joy   \n",
       "4       i was feeling a little vain when i did this one  sadness   \n",
       "...                                                 ...      ...   \n",
       "1995  i just keep feeling like someone is being unki...    anger   \n",
       "1996  im feeling a little cranky negative after this...    anger   \n",
       "1997  i feel that i am useful to my people and that ...      joy   \n",
       "1998  im feeling more comfortable with derby i feel ...      joy   \n",
       "1999  i feel all weird when i have to meet w people ...     fear   \n",
       "\n",
       "                                                 Tokens  \\\n",
       "0     [im, feeling, rather, rotten, im, ambitious, r...   \n",
       "1                    [im, updating, blog, feel, shitty]   \n",
       "2     [never, make, separate, ever, want, feel, like...   \n",
       "3     [left, bouquet, red, yellow, tulips, arm, feel...   \n",
       "4                          [feeling, little, vain, one]   \n",
       "...                                                 ...   \n",
       "1995  [keep, feeling, like, someone, unkind, wrong, ...   \n",
       "1996  [im, feeling, little, cranky, negative, doctor...   \n",
       "1997  [feel, useful, people, gives, great, feeling, ...   \n",
       "1998  [im, feeling, comfortable, derby, feel, though...   \n",
       "1999  [feel, weird, meet, w, people, text, like, don...   \n",
       "\n",
       "                                 Comentario normalizado  \n",
       "0           im feeling rather rotten im ambitious right  \n",
       "1                          im updating blog feel shitty  \n",
       "2       never make separate ever want feel like ashamed  \n",
       "3     left bouquet red yellow tulips arm feeling sli...  \n",
       "4                               feeling little vain one  \n",
       "...                                                 ...  \n",
       "1995  keep feeling like someone unkind wrong think g...  \n",
       "1996  im feeling little cranky negative doctors appo...  \n",
       "1997  feel useful people gives great feeling achieve...  \n",
       "1998  im feeling comfortable derby feel though start...  \n",
       "1999  feel weird meet w people text like dont talk f...  \n",
       "\n",
       "[2000 rows x 4 columns]"
      ]
     },
     "execution_count": 201,
     "metadata": {},
     "output_type": "execute_result"
    }
   ],
   "source": [
    "df[\"Tokens\"] = df[\"Comentario\"].apply(normalizar)\n",
    "df[\"Comentario normalizado\"] = df[\"Tokens\"].apply(lambda x: ' '.join(x))\n",
    "df"
   ]
  },
  {
   "cell_type": "markdown",
   "id": "4dbf365a-e19d-4a45-b9fe-0de4f2fc9a4c",
   "metadata": {},
   "source": [
    "# Representacion numerica"
   ]
  },
  {
   "cell_type": "code",
   "execution_count": 203,
   "id": "09d62b01-fda6-4a95-b09f-7e5e0258937f",
   "metadata": {},
   "outputs": [],
   "source": [
    "import numpy as np\n",
    "import math\n",
    "def obtenerVocabulario(tokens):\n",
    "    voc = set()\n",
    "    for x in tokens:\n",
    "        voc.update(x)\n",
    "    return list(voc)\n",
    "    \n",
    "def BoW(tokens,vocab):\n",
    "    vector = [0] * len(vocab)\n",
    "    for word in tokens:\n",
    "        if word in vocab:\n",
    "            idx = vocab.index(word)\n",
    "            vector[idx] += 1\n",
    "    return vector\n",
    "def tf_idf(tokens, vocab):\n",
    "    no_docs = len(tokens)\n",
    "\n",
    "    idf = {}\n",
    "    for word in vocab:\n",
    "        n_t = sum(1 for document in tokens if word in document)\n",
    "        idf[word] = math.log(no_docs / (1 + n_t))\n",
    "\n",
    "    tf_idf_matrix = []\n",
    "    for doc in tokens:\n",
    "        doc_len = len(doc)\n",
    "        tf_idf_vector = []\n",
    "        for word in vocab:\n",
    "            tf = doc.count(word) / doc_len if doc_len > 0 else 0\n",
    "            tf_idf_val = tf * idf[word]\n",
    "            tf_idf_vector.append(tf_idf_val)\n",
    "        tf_idf_matrix.append(tf_idf_vector) \n",
    "    return np.array(tf_idf_matrix)\n",
    "\n",
    "\n",
    "\n",
    "voc = obtenerVocabulario(df[\"Tokens\"])\n",
    "vectorBoW = []\n",
    "for t in df[\"Tokens\"]:\n",
    "    vector = BoW(t, voc)\n",
    "    vectorBoW.append(vector)\n",
    "\n",
    "tokens = df[\"Tokens\"].tolist()\n",
    "tfidf_matrix = tf_idf(tokens, voc)"
   ]
  },
  {
   "cell_type": "markdown",
   "id": "ba0badb1-fcc1-46c2-bcf4-52eb38294b7a",
   "metadata": {},
   "source": [
    "# Ejemplo de Representación numérica usando BoW o TF-IDF con la primer fila"
   ]
  },
  {
   "cell_type": "code",
   "execution_count": 205,
   "id": "46035e5a-100e-4c9d-91b8-df61ea29e16d",
   "metadata": {},
   "outputs": [
    {
     "name": "stdout",
     "output_type": "stream",
     "text": [
      "[0. 0. 0. ... 0. 0. 0.]\n",
      "[0, 0, 0, 0, 0, 0, 0, 0, 0, 0, 0, 0, 0, 0, 0, 0, 0, 0, 0, 0, 0, 0, 0, 0, 0, 0, 0, 0, 0, 0, 0, 0, 0, 0, 0, 0, 0, 0, 0, 0, 0, 0, 0, 0, 0, 0, 0, 0, 0, 0, 0, 0, 0, 0, 0, 0, 0, 0, 0, 0, 0, 0, 0, 0, 0, 0, 0, 0, 0, 0, 0, 0, 0, 1, 0, 0, 0, 0, 0, 0, 0, 0, 0, 0, 0, 0, 0, 0, 0, 0, 0, 0, 0, 0, 0, 0, 0, 0, 0, 0, 0, 0, 0, 0, 0, 0, 0, 0, 0, 0, 0, 0, 0, 0, 0, 0, 0, 0, 0, 0, 0, 0, 0, 0, 0, 0, 0, 0, 0, 0, 0, 0, 0, 0, 0, 0, 0, 0, 0, 0, 0, 0, 0, 0, 0, 0, 0, 0, 0, 0, 0, 0, 0, 0, 0, 0, 0, 0, 0, 0, 0, 0, 0, 0, 0, 0, 0, 0, 0, 0, 0, 0, 0, 0, 0, 0, 0, 0, 0, 0, 0, 0, 0, 0, 0, 0, 0, 0, 0, 0, 0, 0, 0, 0, 0, 0, 0, 0, 0, 0, 0, 0, 0, 0, 0, 0, 0, 0, 0, 0, 0, 0, 0, 0, 0, 0, 0, 0, 0, 0, 0, 0, 0, 0, 0, 0, 0, 0, 0, 0, 0, 0, 0, 0, 0, 0, 0, 0, 0, 0, 0, 0, 0, 0, 0, 0, 0, 0, 0, 0, 0, 0, 0, 0, 0, 0, 0, 0, 0, 0, 0, 0, 0, 0, 0, 0, 0, 0, 0, 0, 0, 0, 0, 0, 0, 0, 0, 0, 0, 0, 0, 0, 0, 0, 0, 0, 0, 0, 0, 0, 0, 0, 0, 0, 0, 0, 0, 0, 0, 0, 0, 0, 0, 0, 0, 0, 0, 0, 0, 0, 0, 0, 0, 0, 0, 0, 0, 0, 0, 0, 0, 0, 0, 0, 0, 0, 0, 0, 0, 0, 0, 0, 0, 0, 0, 0, 0, 0, 0, 0, 0, 0, 0, 0, 0, 0, 0, 0, 0, 0, 0, 0, 0, 0, 0, 0, 0, 0, 0, 0, 0, 0, 0, 0, 0, 0, 0, 0, 0, 0, 0, 0, 0, 0, 0, 0, 0, 0, 0, 0, 0, 0, 0, 0, 0, 0, 0, 0, 0, 0, 0, 0, 0, 0, 0, 0, 0, 0, 0, 0, 0, 0, 0, 0, 0, 0, 0, 0, 0, 0, 0, 0, 0, 0, 0, 0, 0, 0, 0, 0, 0, 0, 0, 0, 0, 0, 0, 0, 0, 0, 0, 0, 0, 0, 0, 0, 0, 0, 0, 0, 0, 0, 0, 0, 0, 0, 0, 0, 0, 0, 0, 0, 0, 0, 0, 0, 0, 0, 0, 0, 0, 0, 0, 0, 0, 0, 0, 0, 0, 0, 0, 0, 0, 0, 0, 0, 0, 0, 0, 0, 0, 0, 0, 0, 0, 0, 0, 0, 0, 0, 0, 0, 0, 0, 0, 0, 0, 0, 0, 0, 0, 0, 0, 0, 0, 0, 0, 0, 0, 0, 0, 0, 0, 0, 0, 0, 0, 0, 0, 0, 0, 0, 0, 0, 0, 0, 0, 0, 0, 0, 0, 0, 0, 0, 0, 0, 0, 0, 0, 0, 0, 0, 0, 0, 0, 0, 0, 0, 0, 0, 0, 0, 0, 0, 0, 0, 0, 0, 0, 0, 0, 0, 0, 0, 0, 0, 0, 0, 0, 0, 0, 0, 0, 0, 0, 0, 0, 0, 0, 0, 0, 0, 0, 0, 0, 0, 0, 0, 0, 0, 0, 0, 0, 0, 0, 0, 0, 0, 0, 0, 0, 0, 0, 0, 0, 0, 0, 0, 0, 0, 0, 0, 0, 0, 0, 0, 0, 0, 0, 0, 0, 0, 0, 0, 0, 0, 0, 0, 0, 0, 0, 0, 0, 0, 0, 0, 0, 0, 0, 0, 0, 0, 0, 0, 0, 0, 0, 0, 0, 0, 0, 0, 0, 0, 0, 0, 0, 0, 0, 0, 0, 0, 0, 0, 0, 0, 0, 0, 0, 0, 0, 0, 0, 0, 0, 0, 0, 0, 0, 0, 0, 0, 0, 0, 0, 0, 0, 0, 0, 0, 0, 0, 0, 0, 0, 0, 0, 0, 0, 0, 0, 0, 0, 0, 0, 0, 0, 0, 0, 0, 0, 0, 0, 0, 0, 0, 0, 0, 0, 0, 0, 0, 0, 0, 0, 0, 0, 0, 0, 0, 0, 0, 0, 0, 0, 0, 0, 0, 0, 0, 0, 0, 0, 0, 0, 0, 0, 0, 0, 0, 0, 0, 0, 0, 0, 0, 0, 0, 0, 0, 0, 0, 0, 0, 0, 0, 0, 0, 0, 0, 0, 0, 0, 0, 0, 0, 0, 0, 0, 0, 0, 0, 0, 0, 0, 0, 0, 0, 0, 0, 0, 0, 0, 0, 0, 0, 0, 0, 0, 0, 0, 0, 0, 0, 0, 0, 0, 0, 0, 0, 0, 0, 0, 0, 0, 0, 0, 0, 0, 0, 0, 0, 0, 0, 0, 0, 0, 0, 0, 0, 0, 0, 0, 0, 0, 0, 0, 0, 0, 0, 0, 0, 0, 0, 0, 0, 0, 0, 0, 0, 0, 0, 0, 0, 0, 0, 0, 0, 0, 0, 0, 0, 0, 0, 0, 0, 0, 0, 0, 0, 0, 0, 0, 0, 0, 0, 0, 0, 0, 0, 0, 0, 0, 0, 0, 0, 0, 0, 0, 0, 0, 0, 0, 0, 0, 0, 0, 0, 0, 0, 0, 0, 0, 0, 0, 0, 0, 0, 0, 0, 0, 0, 0, 0, 0, 0, 0, 0, 0, 0, 0, 0, 0, 0, 0, 0, 0, 0, 0, 0, 0, 0, 0, 0, 0, 0, 0, 0, 0, 0, 0, 0, 0, 0, 0, 0, 0, 0, 0, 0, 0, 0, 0, 0, 0, 0, 0, 0, 0, 0, 0, 0, 0, 0, 0, 0, 0, 0, 0, 0, 0, 0, 0, 0, 0, 0, 0, 0, 0, 0, 0, 0, 0, 0, 0, 0, 0, 0, 0, 0, 0, 0, 0, 0, 0, 0, 0, 0, 0, 0, 0, 0, 0, 0, 0, 0, 0, 0, 0, 0, 0, 0, 0, 0, 0, 0, 0, 0, 0, 0, 0, 0, 0, 0, 0, 0, 0, 0, 0, 0, 0, 0, 0, 0, 0, 0, 0, 0, 0, 0, 0, 0, 0, 0, 0, 0, 0, 0, 0, 0, 0, 0, 0, 0, 0, 0, 0, 0, 0, 0, 0, 0, 0, 0, 0, 0, 0, 0, 0, 0, 0, 0, 0, 0, 0, 0, 0, 0, 0, 0, 0, 0, 0, 0, 0, 0, 0, 0, 0, 0, 0, 0, 0, 0, 0, 0, 0, 0, 0, 0, 0, 0, 0, 0, 0, 0, 0, 0, 0, 0, 0, 0, 0, 0, 0, 0, 0, 0, 0, 0, 0, 0, 0, 0, 0, 0, 0, 0, 0, 0, 0, 0, 0, 0, 0, 0, 0, 0, 0, 0, 0, 0, 0, 0, 0, 0, 0, 0, 0, 0, 0, 0, 0, 0, 0, 0, 0, 0, 0, 0, 0, 0, 0, 0, 0, 0, 0, 0, 0, 0, 0, 0, 0, 0, 0, 0, 0, 0, 0, 0, 0, 0, 0, 0, 0, 0, 0, 0, 0, 0, 0, 0, 0, 0, 0, 0, 0, 0, 0, 0, 0, 0, 0, 0, 0, 0, 0, 0, 0, 0, 0, 0, 0, 0, 0, 0, 0, 0, 0, 0, 0, 0, 0, 0, 0, 0, 0, 0, 0, 0, 0, 0, 0, 0, 0, 0, 0, 0, 0, 0, 0, 0, 0, 0, 0, 0, 0, 0, 0, 0, 0, 0, 0, 0, 0, 0, 0, 0, 0, 0, 0, 0, 0, 0, 0, 0, 0, 0, 0, 0, 0, 0, 0, 0, 0, 0, 0, 0, 0, 0, 0, 0, 0, 0, 0, 0, 0, 0, 0, 0, 0, 0, 0, 0, 0, 0, 0, 0, 0, 0, 0, 0, 0, 0, 0, 0, 0, 0, 0, 0, 0, 0, 0, 0, 0, 0, 0, 0, 0, 0, 0, 0, 0, 0, 0, 0, 0, 0, 0, 0, 0, 0, 0, 0, 0, 0, 0, 0, 0, 0, 0, 0, 0, 0, 0, 0, 0, 0, 0, 0, 0, 0, 0, 0, 0, 0, 0, 0, 0, 0, 0, 0, 0, 0, 0, 0, 0, 0, 0, 0, 0, 0, 0, 0, 0, 0, 0, 0, 0, 0, 0, 0, 0, 0, 0, 0, 0, 0, 0, 0, 0, 0, 0, 0, 0, 0, 0, 0, 0, 0, 0, 0, 0, 0, 0, 0, 0, 0, 0, 0, 0, 0, 0, 0, 0, 0, 0, 0, 0, 0, 0, 0, 0, 0, 0, 0, 0, 0, 0, 0, 0, 0, 0, 0, 0, 0, 0, 0, 0, 0, 0, 0, 0, 0, 0, 0, 0, 0, 0, 0, 0, 0, 0, 0, 0, 0, 0, 0, 0, 0, 0, 0, 0, 0, 0, 0, 0, 0, 0, 0, 0, 0, 0, 0, 0, 0, 0, 0, 0, 0, 0, 0, 0, 0, 0, 0, 0, 0, 0, 0, 0, 0, 0, 0, 0, 0, 0, 0, 0, 0, 0, 0, 0, 0, 0, 0, 0, 0, 0, 0, 0, 0, 0, 0, 0, 0, 0, 0, 0, 0, 0, 0, 0, 0, 0, 0, 0, 0, 0, 0, 0, 0, 0, 0, 0, 0, 0, 0, 0, 0, 0, 0, 0, 0, 0, 0, 0, 0, 0, 0, 0, 0, 0, 0, 0, 0, 0, 0, 0, 0, 0, 0, 0, 0, 0, 0, 0, 0, 0, 0, 0, 0, 0, 0, 0, 0, 0, 0, 0, 0, 0, 0, 0, 0, 0, 0, 0, 0, 0, 0, 0, 0, 0, 0, 0, 0, 0, 0, 0, 0, 0, 0, 0, 0, 0, 0, 0, 0, 0, 0, 0, 0, 0, 0, 0, 0, 0, 0, 0, 0, 0, 0, 0, 0, 0, 0, 0, 0, 0, 0, 0, 0, 0, 0, 0, 0, 0, 0, 0, 0, 0, 0, 0, 0, 0, 0, 0, 0, 0, 0, 0, 0, 0, 0, 0, 0, 0, 0, 0, 0, 0, 0, 0, 0, 0, 0, 0, 0, 0, 0, 0, 0, 0, 0, 0, 0, 0, 0, 0, 0, 0, 0, 0, 0, 0, 0, 0, 0, 0, 0, 0, 0, 0, 0, 0, 0, 0, 0, 0, 0, 0, 0, 0, 0, 0, 0, 0, 0, 0, 0, 0, 0, 0, 0, 0, 0, 0, 0, 0, 0, 0, 0, 0, 0, 0, 0, 0, 0, 0, 0, 0, 0, 0, 0, 0, 0, 0, 0, 0, 0, 0, 0, 0, 0, 0, 0, 0, 0, 0, 0, 0, 0, 0, 0, 0, 0, 0, 0, 0, 0, 0, 0, 0, 0, 0, 0, 0, 0, 0, 0, 0, 0, 0, 0, 0, 0, 0, 0, 0, 0, 0, 0, 0, 0, 0, 0, 0, 0, 0, 0, 0, 0, 0, 0, 0, 0, 0, 0, 0, 0, 0, 0, 0, 0, 0, 0, 0, 0, 0, 0, 0, 0, 0, 0, 0, 0, 0, 0, 0, 0, 0, 0, 0, 0, 0, 0, 0, 0, 0, 0, 0, 0, 0, 0, 0, 0, 0, 0, 0, 0, 0, 0, 0, 0, 0, 0, 0, 0, 0, 0, 0, 0, 0, 0, 0, 0, 0, 0, 0, 0, 0, 0, 0, 0, 0, 0, 0, 0, 0, 0, 0, 0, 0, 0, 0, 0, 0, 0, 0, 0, 0, 0, 0, 0, 0, 0, 0, 0, 0, 0, 0, 0, 0, 0, 0, 0, 0, 0, 0, 0, 0, 0, 0, 0, 0, 0, 0, 0, 0, 0, 0, 0, 0, 0, 0, 0, 0, 0, 0, 0, 0, 0, 0, 0, 0, 0, 0, 0, 0, 0, 0, 0, 0, 0, 0, 0, 0, 0, 0, 0, 0, 0, 0, 0, 0, 0, 0, 0, 0, 0, 0, 0, 0, 0, 0, 0, 0, 0, 0, 0, 0, 0, 0, 0, 0, 0, 0, 0, 0, 0, 0, 0, 0, 0, 0, 0, 0, 0, 0, 0, 0, 0, 0, 0, 0, 0, 0, 0, 0, 0, 0, 0, 0, 0, 0, 0, 0, 0, 0, 0, 0, 0, 0, 0, 0, 0, 0, 0, 0, 0, 0, 0, 0, 0, 0, 0, 0, 0, 0, 0, 0, 0, 0, 0, 0, 0, 0, 0, 0, 0, 0, 0, 0, 0, 0, 0, 0, 0, 0, 0, 0, 0, 0, 0, 0, 0, 0, 0, 0, 0, 0, 0, 0, 0, 0, 0, 0, 0, 0, 0, 0, 0, 0, 0, 0, 0, 0, 0, 0, 0, 0, 0, 0, 0, 0, 0, 0, 0, 0, 0, 0, 0, 0, 0, 0, 0, 0, 0, 0, 0, 0, 0, 0, 0, 0, 0, 0, 0, 0, 0, 0, 0, 0, 0, 0, 0, 0, 0, 0, 0, 0, 0, 0, 0, 0, 0, 0, 0, 0, 0, 0, 0, 0, 0, 0, 0, 0, 0, 0, 0, 0, 0, 0, 0, 0, 0, 0, 0, 0, 0, 0, 0, 0, 0, 0, 0, 0, 0, 0, 0, 0, 0, 0, 0, 0, 0, 0, 0, 0, 0, 0, 0, 0, 0, 0, 0, 0, 0, 0, 0, 0, 0, 0, 0, 0, 0, 0, 0, 0, 0, 0, 0, 0, 0, 0, 0, 0, 0, 0, 0, 0, 0, 0, 0, 0, 0, 0, 0, 0, 0, 0, 0, 0, 0, 0, 0, 0, 0, 0, 0, 0, 0, 0, 0, 0, 0, 0, 0, 0, 0, 0, 0, 0, 0, 0, 0, 0, 0, 0, 0, 0, 0, 0, 0, 0, 0, 0, 0, 0, 0, 0, 0, 0, 0, 0, 0, 0, 0, 0, 0, 0, 0, 0, 0, 0, 0, 0, 0, 0, 0, 0, 0, 0, 0, 0, 0, 0, 0, 0, 0, 0, 0, 0, 0, 0, 0, 0, 0, 0, 0, 0, 0, 0, 0, 0, 0, 0, 0, 0, 0, 0, 0, 0, 0, 0, 0, 0, 0, 0, 0, 0, 0, 0, 0, 0, 0, 0, 0, 0, 0, 0, 0, 0, 0, 0, 0, 0, 0, 0, 0, 0, 0, 0, 0, 0, 0, 0, 0, 0, 0, 0, 0, 0, 0, 0, 0, 0, 0, 0, 0, 0, 0, 0, 0, 0, 0, 0, 0, 0, 0, 0, 0, 0, 0, 0, 0, 0, 0, 0, 0, 0, 0, 0, 0, 0, 0, 0, 0, 0, 0, 0, 0, 0, 0, 0, 0, 0, 0, 0, 0, 0, 0, 0, 0, 0, 0, 0, 0, 0, 0, 0, 0, 0, 0, 0, 0, 0, 0, 0, 0, 0, 0, 0, 0, 0, 0, 0, 0, 0, 0, 0, 0, 0, 0, 0, 0, 0, 0, 0, 0, 0, 0, 0, 0, 0, 0, 0, 0, 0, 0, 0, 0, 0, 0, 0, 0, 0, 0, 0, 0, 0, 0, 0, 0, 0, 2, 0, 0, 0, 0, 0, 0, 0, 0, 0, 0, 0, 0, 0, 0, 0, 0, 0, 0, 0, 0, 0, 0, 0, 0, 0, 0, 0, 0, 0, 0, 0, 0, 0, 0, 0, 0, 0, 0, 0, 0, 0, 0, 0, 0, 0, 0, 0, 0, 0, 0, 0, 0, 0, 0, 0, 0, 0, 0, 0, 0, 0, 0, 0, 0, 0, 0, 0, 0, 0, 0, 0, 0, 0, 0, 0, 0, 0, 0, 0, 0, 0, 0, 0, 0, 0, 0, 0, 0, 0, 0, 0, 0, 0, 0, 0, 0, 0, 0, 0, 0, 0, 0, 0, 0, 0, 0, 0, 0, 0, 0, 0, 0, 0, 0, 0, 0, 0, 0, 0, 0, 0, 0, 0, 0, 0, 0, 0, 0, 0, 0, 0, 0, 0, 0, 0, 0, 0, 0, 0, 0, 0, 0, 0, 0, 0, 0, 0, 0, 0, 0, 0, 0, 0, 0, 0, 0, 0, 0, 0, 0, 0, 0, 0, 0, 0, 0, 0, 0, 0, 0, 0, 0, 0, 0, 0, 0, 0, 0, 0, 0, 0, 0, 0, 0, 0, 0, 0, 0, 0, 0, 0, 0, 0, 0, 0, 0, 0, 0, 0, 0, 0, 0, 0, 0, 0, 0, 0, 0, 0, 0, 0, 0, 0, 0, 0, 0, 0, 0, 0, 0, 0, 0, 0, 0, 0, 0, 0, 0, 0, 0, 0, 0, 0, 0, 0, 0, 0, 0, 0, 0, 0, 0, 0, 0, 0, 0, 0, 0, 0, 0, 0, 0, 0, 0, 0, 0, 0, 0, 0, 0, 0, 0, 0, 0, 0, 0, 0, 0, 0, 0, 0, 0, 0, 0, 0, 0, 0, 0, 0, 0, 0, 0, 0, 0, 0, 0, 0, 0, 0, 0, 0, 0, 0, 0, 0, 0, 0, 0, 0, 0, 0, 0, 0, 0, 0, 0, 0, 0, 0, 0, 0, 0, 0, 0, 0, 0, 0, 0, 0, 0, 0, 0, 0, 0, 0, 0, 0, 0, 0, 0, 0, 0, 0, 0, 1, 0, 0, 0, 0, 0, 0, 0, 0, 0, 0, 0, 0, 0, 0, 0, 0, 0, 0, 0, 0, 0, 0, 0, 0, 0, 0, 0, 0, 0, 0, 0, 0, 0, 0, 0, 0, 0, 0, 0, 0, 0, 0, 0, 0, 0, 0, 0, 0, 0, 0, 0, 0, 0, 0, 0, 0, 0, 0, 0, 0, 0, 0, 0, 0, 0, 0, 0, 0, 0, 0, 0, 0, 0, 0, 0, 0, 0, 0, 0, 0, 0, 0, 0, 0, 0, 0, 0, 0, 0, 0, 0, 0, 0, 0, 0, 0, 0, 0, 0, 0, 0, 0, 0, 0, 0, 0, 0, 0, 0, 0, 0, 0, 0, 0, 0, 0, 0, 0, 0, 0, 0, 0, 0, 0, 0, 0, 0, 0, 0, 0, 0, 0, 0, 0, 0, 0, 0, 0, 0, 0, 0, 0, 0, 0, 0, 0, 0, 0, 0, 0, 0, 0, 0, 0, 0, 0, 0, 0, 0, 0, 0, 0, 0, 0, 0, 0, 0, 0, 0, 0, 0, 0, 0, 0, 0, 0, 0, 0, 0, 0, 0, 0, 0, 0, 0, 0, 0, 0, 0, 0, 0, 0, 0, 0, 0, 0, 0, 0, 0, 0, 0, 0, 0, 0, 0, 0, 0, 0, 0, 0, 0, 0, 0, 0, 0, 0, 0, 0, 0, 0, 0, 0, 0, 0, 0, 0, 0, 0, 0, 0, 0, 0, 0, 0, 0, 0, 0, 0, 0, 0, 0, 0, 0, 0, 0, 0, 0, 0, 0, 0, 0, 0, 0, 0, 0, 0, 0, 0, 0, 0, 0, 0, 0, 0, 0, 0, 0, 0, 0, 0, 0, 0, 0, 0, 0, 0, 0, 0, 0, 0, 0, 0, 0, 0, 0, 0, 0, 0, 0, 0, 0, 0, 0, 0, 0, 0, 0, 0, 0, 0, 0, 0, 0, 0, 1, 0, 0, 0, 0, 0, 0, 0, 0, 0, 0, 0, 0, 0, 0, 0, 0, 0, 0, 0, 0, 0, 0, 0, 0, 0, 0, 0, 0, 0, 0, 0, 0, 0, 0, 0, 0, 0, 0, 0, 0, 0, 0, 0, 0, 0, 0, 0, 0, 0, 0, 0, 0, 0, 0, 0, 0, 0, 0, 0, 0, 0, 0, 0, 0, 0, 0, 0, 0, 0, 0, 0, 0, 0, 0, 0, 0, 0, 0, 0, 0, 0, 0, 0, 0, 0, 0, 0, 0, 0, 0, 0, 0, 0, 0, 0, 0, 0, 0, 0, 0, 0, 0, 0, 0, 0, 0, 0, 0, 0, 0, 0, 0, 0, 0, 0, 0, 0, 0, 0, 0, 0, 0, 0, 0, 0, 0, 0, 0, 0, 0, 0, 0, 0, 0, 0, 0, 0, 0, 0, 0, 0, 0, 0, 0, 0, 0, 0, 0, 0, 0, 0, 0, 0, 0, 0, 0, 0, 0, 0, 0, 0, 0, 0, 0, 0, 0, 0, 0, 0, 0, 0, 0, 0, 0, 0, 0, 0, 0, 0, 0, 0, 0, 0, 0, 0, 0, 0, 0, 0, 0, 0, 0, 0, 0, 0, 0, 0, 0, 0, 0, 0, 0, 0, 0, 0, 0, 0, 0, 0, 0, 0, 0, 0, 0, 0, 0, 0, 0, 0, 0, 0, 0, 0, 0, 0, 0, 0, 0, 0, 0, 0, 0, 0, 0, 0, 0, 0, 0, 0, 0, 0, 0, 0, 0, 0, 0, 0, 0, 0, 0, 0, 0, 0, 0, 0, 0, 0, 0, 0, 0, 0, 0, 0, 0, 0, 0, 0, 0, 0, 0, 0, 0, 0, 0, 0, 0, 0, 0, 0, 0, 0, 0, 0, 0, 0, 0, 0, 0, 0, 0, 0, 0, 0, 0, 0, 0, 0, 0, 0, 0, 0, 0, 0, 0, 0, 0, 0, 0, 0, 0, 0, 0, 0, 0, 0, 0, 0, 0, 0, 0, 0, 0, 0, 0, 0, 0, 0, 0, 0, 0, 0, 0, 0, 0, 0, 0, 0, 0, 0, 0, 0, 0, 0, 0, 0, 0, 0, 0, 0, 0, 0, 0, 0, 0, 0, 0, 0, 0, 0, 0, 0, 0, 0, 0, 0, 0, 0, 0, 0, 0, 0, 0, 0, 0, 0, 0, 0, 0, 0, 0, 0, 0, 0, 0, 0, 0, 0, 0, 0, 0, 0, 0, 0, 0, 0, 0, 0, 0, 0, 0, 0, 0, 0, 0, 0, 0, 0, 0, 0, 0, 0, 0, 0, 0, 0, 0, 0, 0, 0, 0, 0, 0, 0, 0, 0, 0, 0, 0, 0, 0, 0, 0, 0, 0, 0, 0, 0, 0, 0, 0, 0, 0, 0, 0, 0, 0, 0, 0, 0, 0, 0, 0, 0, 0, 0, 0, 0, 0, 0, 0, 0, 0, 0, 0, 0, 0, 0, 0, 0, 0, 0, 0, 0, 0, 0, 0, 0, 0, 0, 0, 0, 0, 0, 0, 0, 0, 0, 0, 0, 0, 0, 0, 0, 0, 0, 0, 0, 0, 0, 0, 0, 0, 0, 0, 0, 0, 0, 0, 0, 0, 0, 0, 0, 0, 0, 0, 0, 0, 0, 0, 0, 0, 0, 0, 0, 0, 0, 0, 0, 0, 0, 0, 0, 0, 0, 0, 0, 0, 0, 0, 0, 0, 0, 0, 0, 0, 0, 0, 0, 0, 0, 0, 0, 0, 0, 0, 0, 0, 0, 0, 0, 0, 0, 0, 0, 0, 0, 0, 0, 0, 0, 0, 0, 0, 0, 0, 0, 0, 0, 0, 0, 0, 0, 0, 0, 0, 0, 0, 0, 0, 0, 0, 0, 0, 0, 0, 0, 0, 1, 0, 0, 0, 0, 0, 0, 0, 0, 0, 0, 0, 0, 0, 0, 0, 0, 0, 0, 0, 0, 0, 0, 0, 0, 0, 0, 0, 0, 0, 0, 0, 0, 0, 0, 0, 0, 0, 0, 0, 0, 0, 0, 0, 0, 0, 0, 0, 0, 0, 0, 0, 0, 0, 0, 0, 0, 0, 0, 0, 0, 0, 0, 0, 0, 0, 0, 0, 0, 0, 0, 0, 0, 0, 0, 0, 0, 0, 0, 0, 0, 0, 0, 0, 0, 0, 0, 0, 0, 0, 0, 0, 0, 0, 0, 0, 0, 0, 0, 0, 0, 0, 0, 0, 0, 0, 0, 0, 0, 0, 0, 0, 0, 0, 0, 0, 0, 0, 0, 0, 0, 0, 0, 0, 0, 0, 0, 0, 0, 0, 0, 0, 0, 0, 0, 0, 0, 0, 0, 0, 0, 0, 0, 0, 0, 0, 0, 0, 0, 0, 0, 0, 0, 0, 0, 0, 0, 0, 0, 0, 0, 0, 0, 0, 0, 0, 0, 0, 0, 0, 0, 0, 0, 0, 0, 0, 0, 0, 0, 0, 0, 0, 0, 0, 0, 0, 0, 0, 0, 0, 0, 0, 0, 0, 0, 0, 0, 0, 0, 0, 0, 0, 0, 0, 0, 0, 0, 0, 0, 0, 0, 0, 0, 0, 0, 0, 0, 0, 0, 0, 0, 0, 0, 0, 0, 0, 0, 0, 0, 0, 0, 0, 0, 0, 0, 0, 0, 0, 0, 0, 0, 0, 0, 0, 0, 0, 0, 0, 0, 0, 0, 0, 0, 0, 0, 0, 0, 0, 0, 0, 0, 0, 0, 0, 0, 0, 0, 0, 0, 0, 0, 0, 0, 0, 0, 0, 0, 0, 0, 0, 0, 0, 0, 0, 0, 0, 0, 0, 0, 0, 0, 0, 0, 0, 0, 0, 0, 0, 0, 0, 0, 0, 0, 0, 0, 0, 0, 0, 0, 0, 0, 0, 0, 0, 0, 0, 0, 0, 0, 0, 0, 0, 0, 0, 0, 0, 0, 0, 0, 0, 0, 0, 0, 0, 0, 0, 0, 0, 0, 0, 0, 0, 0, 0, 0, 0, 0, 0, 0, 0, 0, 0, 0, 0, 0, 0, 0, 0, 0, 0, 0, 0, 0, 0, 0, 0, 0, 0, 0, 0, 0, 0, 0, 0, 0, 0, 0, 0, 0, 0, 0, 0, 0, 0, 0, 0, 0, 0, 0, 0, 0, 0, 0, 0, 0, 0, 0, 0, 0, 0, 0, 0, 0, 0, 0, 0, 0, 0, 0, 0, 0, 0, 0, 0, 0, 0, 0, 0, 0, 0, 0, 0, 0, 0, 0, 0, 0, 0, 0, 0, 0, 0, 0, 0, 0, 0, 0, 0, 0, 0, 0, 0, 0, 0, 0, 0, 0, 0, 0, 0, 0, 0, 0, 0, 0, 0, 0, 0, 0, 0, 0, 0, 0, 0, 0, 0, 0, 0, 0, 0, 0, 0, 0, 0, 0, 0, 0, 0, 0, 0, 0, 0, 0, 0, 0, 0, 0, 0, 0, 0, 0, 0, 0, 0, 0, 0, 0, 0, 0, 0, 0, 0, 0, 0, 0, 0, 0, 0, 0, 0, 0, 0, 0, 0, 0, 0, 0, 0, 0, 0, 0, 0, 0, 0, 0, 0, 0, 0, 0, 0, 0, 0, 0, 0, 0, 0, 0, 0, 0, 0, 0, 0, 0, 0, 0, 0, 0, 0, 0, 0, 0, 0, 0, 0, 0, 0, 0, 0, 0, 0, 0, 0, 0, 0, 0, 1, 0, 0, 0, 0, 0, 0, 0, 0, 0, 0, 0, 0, 0, 0, 0, 0, 0, 0, 0, 0, 0, 0, 0, 0, 0, 0, 0, 0, 0, 0, 0, 0, 0, 0, 0, 0, 0, 0, 0, 0, 0, 0, 0, 0, 0, 0, 0, 0, 0, 0, 0, 0, 0, 0, 0, 0, 0, 0, 0, 0, 0, 0, 0, 0, 0, 0, 0, 0, 0, 0, 0, 0, 0, 0, 0, 0, 0, 0, 0, 0, 0, 0, 0, 0, 0, 0, 0, 0, 0, 0, 0, 0, 0, 0, 0, 0, 0, 0, 0, 0, 0, 0, 0, 0, 0, 0, 0, 0, 0, 0, 0, 0, 0, 0, 0, 0, 0, 0, 0, 0, 0, 0, 0, 0, 0, 0, 0, 0, 0, 0, 0, 0, 0, 0, 0, 0, 0, 0, 0, 0, 0, 0, 0, 0, 0, 0, 0, 0, 0, 0, 0, 0, 0, 0, 0, 0, 0, 0, 0, 0, 0, 0, 0, 0, 0, 0, 0, 0, 0, 0, 0, 0, 0, 0, 0, 0, 0, 0, 0, 0, 0, 0, 0, 0, 0, 0, 0, 0, 0, 0, 0, 0, 0, 0, 0, 0, 0, 0, 0, 0, 0, 0, 0, 0, 0, 0, 0, 0, 0, 0, 0, 0, 0, 0, 0, 0, 0, 0, 0, 0, 0, 0, 0, 0, 0, 0, 0, 0, 0, 0, 0, 0, 0, 0, 0, 0, 0, 0, 0, 0, 0, 0, 0, 0, 0, 0, 0, 0, 0, 0, 0, 0, 0, 0, 0, 0, 0, 0, 0, 0, 0, 0, 0, 0, 0, 0, 0, 0, 0, 0, 0, 0, 0, 0, 0, 0, 0, 0, 0, 0, 0, 0, 0, 0, 0, 0, 0, 0, 0, 0, 0, 0, 0, 0, 0, 0, 0, 0, 0, 0, 0, 0, 0, 0, 0, 0, 0, 0, 0, 0, 0, 0, 0, 0, 0, 0, 0, 0, 0, 0, 0, 0, 0, 0, 0, 0, 0, 0, 0, 0, 0, 0, 0, 0, 0, 0, 0, 0, 0, 0, 0, 0, 0, 0, 0, 0, 0, 0, 0, 0, 0, 0, 0, 0, 0, 0, 0, 0, 0, 0, 0, 0, 0, 0, 0, 0, 0, 0, 0, 0, 0, 0, 0, 0, 0, 0, 0, 0, 0, 0, 0, 0, 0, 0, 0, 0, 0, 0, 0, 0, 0, 0, 0, 0, 0, 0, 0, 0, 0, 0, 0, 0, 0, 0, 0, 0]\n"
     ]
    }
   ],
   "source": [
    "print(tfidf_matrix[0])\n",
    "print(vectorBoW[0])"
   ]
  },
  {
   "cell_type": "markdown",
   "id": "867b3d19-50f0-4e1b-a36d-b63f08fa985e",
   "metadata": {},
   "source": [
    "# Agrupa cada emocion con una lista de palabras correspondiente"
   ]
  },
  {
   "cell_type": "code",
   "execution_count": 207,
   "id": "9a127deb-9beb-4905-bb09-66244e4b7bb3",
   "metadata": {},
   "outputs": [
    {
     "name": "stdout",
     "output_type": "stream",
     "text": [
      "Emocion\n",
      "anger       [felt, anger, end, telephone, call, jest, feel...\n",
      "fear        [cant, walk, shop, anywhere, feel, uncomfortab...\n",
      "joy         [left, bouquet, red, yellow, tulips, arm, feel...\n",
      "love        [find, odd, position, feeling, supportive, fee...\n",
      "sadness     [im, feeling, rather, rotten, im, ambitious, r...\n",
      "surprise    [feel, little, stunned, imagine, folks, workin...\n",
      "Name: Tokens, dtype: object\n"
     ]
    }
   ],
   "source": [
    "grupos = df.groupby(\"Emocion\")[\"Tokens\"].apply(lambda x: sum(x, []))\n",
    "print(grupos)"
   ]
  },
  {
   "cell_type": "markdown",
   "id": "f7c9b027-6bcc-4087-baa0-83fd4fe62b4f",
   "metadata": {},
   "source": [
    "# Palabras con mayor peso en cada emocion"
   ]
  },
  {
   "cell_type": "code",
   "execution_count": 209,
   "id": "e342bca5-1ab9-47b3-957a-3c1fadb40e8e",
   "metadata": {},
   "outputs": [
    {
     "name": "stdout",
     "output_type": "stream",
     "text": [
      "Palabras más representativas en 'anger': \n",
      "\n",
      "['greedy', 'insulted', 'stubborn', 'rushed', 'impatient', 'cranky', 'irritable', 'bitter', 'bitchy', 'bothered']\n",
      "Palabras más representativas en 'fear': \n",
      "\n",
      "['pressured', 'restless', 'shy', 'doubtful', 'afraid', 'suspicious', 'uncertain', 'intimidated', 'shaky', 'distressed']\n",
      "Palabras más representativas en 'joy': \n",
      "\n",
      "['perfect', 'acceptable', 'virtuous', 'valued', 'determined', 'honoured', 'relaxed', 'energetic', 'pleasant', 'worthwhile']\n",
      "Palabras más representativas en 'love': \n",
      "\n",
      "['tender', 'gentle', 'sympathetic', 'romantic', 'naughty', 'longing', 'supportive', 'delicate', 'loyal', 'supporting']\n",
      "Palabras más representativas en 'sadness': \n",
      "\n",
      "['dull', 'embarrassed', 'lonely', 'ashamed', 'ugly', 'defeated', 'humiliated', 'unwelcome', 'homesick', 'awful']\n",
      "Palabras más representativas en 'surprise': \n",
      "\n",
      "['strange', 'curious', 'shocked', 'handed', 'amazed', 'dazed', 'contractions', 'ludicrous', 'feng', 'age']\n"
     ]
    }
   ],
   "source": [
    "listG = grupos.tolist()\n",
    "vocab1 = obtenerVocabulario(listG)\n",
    "vectores = [BoW(doc, vocab1) for doc in listG]\n",
    "tfidf = tf_idf(listG, vocab1)\n",
    "for i, emocion in enumerate(grupos.index):\n",
    "    pesos = tfidf[i]\n",
    "    top_indices = np.argsort(pesos)[::-1][:10]\n",
    "    print(f\"Palabras más representativas en '{emocion}': \\n\")\n",
    "    print([vocab1[j] for j in top_indices])\n"
   ]
  },
  {
   "cell_type": "markdown",
   "id": "6eee6786-379f-4b71-b1e8-3d3f66cce0f7",
   "metadata": {},
   "source": [
    "# Palabras compartidas"
   ]
  },
  {
   "cell_type": "code",
   "execution_count": 234,
   "id": "9ad9bb87-2ed5-40d5-a498-4a5996a907b3",
   "metadata": {},
   "outputs": [
    {
     "name": "stdout",
     "output_type": "stream",
     "text": [
      "['force', 'eyes', 'really', 'report', 'isolated', 'words', 'workout', 'naturally', 'studies', 'dancer', 'overwhelming', 'someone', 'gonna', 'feet', 'daily', 'crying', 'feeling', 'area', 'elevator', 'talks', 'drive', 'photo', 'knew', 'brothers', 'little', 'definately', 'fond', 'routine', 'beautiful', 'leave', 'sorts', 'hold', 'follow', 'alot', 'sent', 'together', 'sized', 'posting', 'control', 'finished', 'town', 'shoes', 'dont', 'front', 'toward', 'allowing', 'apprehensive', 'guess', 'breaking', 'deeply', 'desperate', 'credit', 'familiar', 'effort', 'head', 'willing', 'cycle', 'upon', 'fact', 'happier', 'throughout', 'ability', 'also', 'text', 'urge', 'skin', 'black', 'phone', 'mood', 'accommodate', 'secret', 'making', 'god', 'water', 'spent', 'classic', 'think', 'joy', 'due', 'two', 'amazed', 'theater', 'meaning', 'wear', 'ad', 'red', 'try', 'opinions', 'strange', 'comfortable', 'began', 'married', 'plot', 'world', 'late', 'pick', 'twice', 'injury', 'fresh', 'capable', 'going', 'well', 'purple', 'hes', 'super', 'arouse', 'corner', 'calm', 'lay', 'home', 'balance', 'choices', 'let', 'completely', 'admit', 'anything', 'negative', 'scattered', 'side', 'fucking', 'shouldnt', 'steal', 'company', 'rain', 'monday', 'seriously', 'circle', 'hope', 'numb', 'vacation', 'korean', 'gut', 'meat', 'father', 'sex', 'sooner', 'keeps', 'parents', 'something', 'sort', 'irritated', 'anxious', 'shows', 'scream', 'sensitive', 'shes', 'intention', 'suffer', 'putting', 'jesus', 'body', 'assaulted', 'several', 'physically', 'second', 'blanket', 'lists', 'throw', 'test', 'stop', 'woman', 'tasks', 'suspect', 'distracted', 'grumpy', 'blindly', 'anniversary', 'met', 'emotions', 'confused', 'bookmark', 'pictures', 'tried', 'towards', 'however', 'lives', 'incredibly', 'say', 'employees', 'opportunity', 'low', 'horrible', 'tell', 'experience', 'everyone', 'self', 'past', 'energized', 'time', 'media', 'math', 'angry', 'walls', 'mental', 'outside', 'living', 'goals', 'lots', 'hardest', 'sister', 'chair', 'true', 'future', 'shoulder', 'neither', 'child', 'enough', 'holding', 'event', 'babys', 'arms', 'keeping', 'fans', 'charity', 'tells', 'bothered', 'used', 'everyday', 'long', 'become', 'hot', 'close', 'truly', 'step', 'hunting', 'peace', 'fish', 'write', 'real', 'drop', 'basis', 'interested', 'review', 'see', 'get', 'places', 'smart', 'current', 'happening', 'speak', 'watch', 'foreign', 'study', 'moved', 'high', 'needy', 'surprised', 'know', 'year', 'face', 'expected', 'trust', 'individuals', 'wants', 'th', 'offended', 'maintain', 'nostalgic', 'abandoned', 'exchange', 'white', 'perfectly', 'lord', 'cairns', 'perform', 'weird', 'spend', 'confidence', 'sucks', 'playing', 'older', 'different', 'coffee', 'mandarin', 'loss', 'hair', 'plenty', 'book', 'sympathy', 'arent', 'bed', 'readers', 'sudden', 'simple', 'project', 'hand', 'desire', 'fine', 'barely', 'experienced', 'space', 'considering', 'boy', 'yet', 'answer', 'spirit', 'men', 'left', 'affection', 'cook', 'sometimes', 'night', 'need', 'pages', 'supposed', 'meditation', 'inspired', 'radio', 'remind', 'closest', 'jokes', 'didnt', 'cooking', 'whenever', 'moment', 'bit', 'air', 'failed', 'monster', 'paint', 'yes', 'connection', 'passion', 'ever', 'decision', 'sea', 'found', 'happily', 'hat', 'talk', 'within', 'outcome', 'comments', 'gained', 'option', 'safe', 'excited', 'majority', 'policy', 'trip', 'boring', 'country', 'months', 'fairly', 'first', 'tuesday', 'star', 'husband', 'health', 'unnecessary', 'proud', 'either', 'notice', 'realized', 'rough', 'extra', 'ask', 'dudes', 'veggies', 'known', 'girl', 'went', 'waters', 'tonight', 'stick', 'changed', 'brother', 'garden', 'live', 'thrilled', 'constantly', 'noticed', 'grateful', 'learnt', 'forced', 'cold', 'fuckin', 'could', 'badly', 'seen', 'pulled', 'buddy', 'coz', 'realize', 'many', 'ran', 'thank', 'coach', 'wine', 'much', 'similar', 'filled', 'remember', 'viewer', 'quickly', 'five', 'put', 'anticipation', 'scared', 'importance', 'six', 'otherwise', 'purpose', 'smaller', 'community', 'love', 'thoughts', 'genuine', 'smile', 'door', 'shut', 'looked', 'certain', 'name', 'cry', 'respected', 'stress', 'studying', 'gone', 'delight', 'state', 'depth', 'turn', 'weekend', 'usually', 'useless', 'tad', 'fabric', 'excitement', 'harder', 'books', 'gesture', 'talked', 'breakfast', 'jacket', 'mislead', 'blog', 'hate', 'break', 'dark', 'reflection', 'personal', 'asking', 'trying', 'lately', 'sweat', 'fears', 'asian', 'blogged', 'movie', 'mentioned', 'male', 'local', 'understand', 'described', 'needs', 'theres', 'breathe', 'bounce', 'success', 'bore', 'yesterday', 'team', 'without', 'dream', 'title', 'dying', 'expensive', 'focused', 'brought', 'becomes', 'believe', 'www', 'hopefully', 'looks', 'post', 'round', 'came', 'amazing', 'cope', 'pregnant', 'supplies', 'peaceful', 'hearing', 'young', 'look', 'rock', 'entered', 'forgot', 'contribute', 'masters', 'claudia', 'wedding', 'behave', 'strongly', 'describe', 'voice', 'centered', 'purchase', 'set', 'responsibilities', 'parts', 'memory', 'process', 'exist', 'unfortunate', 'href', 'reason', 'anybody', 'car', 'pleased', 'cool', 'normally', 'recently', 'seeing', 'duties', 'enjoy', 'knees', 'emotionally', 'disappointed', 'letting', 'must', 'longer', 'curious', 'hence', 'encounter', 'clean', 'challenge', 'missing', 'creative', 'nature', 'vulnerable', 'obviously', 'road', 'promise', 'tempted', 'mine', 'target', 'thanks', 'flipping', 'job', 'wandering', 'hostel', 'giving', 'catch', 'hands', 'office', 'made', 'light', 'ahead', 'finger', 'even', 'looking', 'seem', 'writer', 'sat', 'guy', 'survey', 'usual', 'safety', 'park', 'ready', 'initial', 'draw', 'complete', 'overseas', 'treat', 'closer', 'products', 'meds', 'http', 'half', 'amp', 'means', 'decline', 'complicated', 'combination', 'enthusiasm', 'resigned', 'everything', 'emails', 'celebrate', 'others', 'kind', 'wanted', 'betrayed', 'focus', 'miles', 'thing', 'atm', 'takes', 'arrival', 'mention', 'feelings', 'seemed', 'brave', 'pull', 'change', 'expressed', 'youve', 'neglectful', 'heartbeat', 'blogging', 'run', 'likely', 'liked', 'dazed', 'simply', 'nobody', 'another', 'send', 'anymore', 'laugh', 'sun', 'connect', 'difficult', 'forth', 'drops', 'whats', 'extreme', 'grief', 'earth', 'taste', 'pointless', 'band', 'havent', 'friendship', 'writing', 'flowers', 'big', 'summer', 'knowing', 'nights', 'inhibited', 'next', 'replied', 'surround', 'particular', 'hurt', 'occuring', 'better', 'younger', 'couldnt', 'aint', 'waiting', 'grave', 'accept', 'healthy', 'four', 'surprise', 'generally', 'b', 'problem', 'raw', 'things', 'concerned', 'fail', 'else', 'existence', 'supporting', 'training', 'meet', 'foot', 'storyline', 'kinda', 'slowly', 'check', 'situations', 'store', 'afternoon', 'saying', 'hateful', 'curse', 'script', 'laid', 'successful', 'match', 'open', 'w', 'days', 'bring', 'films', 'suggest', 'tendency', 'delivered', 'especially', 'guilty', 'hang', 'tortured', 'thought', 'ive', 'moving', 'anger', 'intelligence', 'tv', 'shared', 'kindness', 'chinese', 'whose', 'fake', 'route', 'podcast', 'keep', 'client', 'talking', 'u', 'loving', 'contemplate', 'ice', 'enjoying', 'early', 'would', 'explore', 'heart', 'hell', 'various', 'whilst', 'pause', 'full', 'suppose', 'information', 'mother', 'fear', 'says', 'please', 'resolutions', 'furniture', 'girls', 'frightened', 'humans', 'exhausted', 'belly', 'ones', 'cross', 'nice', 'baking', 'despite', 'ups', 'managed', 'stuff', 'support', 'forever', 'best', 'holidays', 'number', 'stronger', 'trails', 'handling', 'storm', 'allowed', 'entry', 'clothes', 'prepares', 'waking', 'issues', 'hasnt', 'rude', 'case', 'sit', 'comment', 'aching', 'stand', 'church', 'touring', 'projects', 'weight', 'whether', 'tank', 'lame', 'sorry', 'song', 'happened', 'still', 'natural', 'sleep', 'son', 'come', 'race', 'almost', 'eventually', 'im', 'way', 'level', 'teams', 'actually', 'dealing', 'convenient', 'lunch', 'impressed', 'annoyed', 'blessed', 'though', 'soft', 'extremely', 'hour', 'stomach', 'accepting', 'arrived', 'difference', 'care', 'tempered', 'start', 'tears', 'unless', 'terribly', 'suddenly', 'scene', 'mirror', 'meant', 'passed', 'leg', 'answers', 'chat', 'exactly', 'boss', 'messages', 'relatively', 'lie', 'style', 'conversation', 'wasnt', 'warm', 'generous', 'cast', 'great', 'act', 'product', 'frustrated', 'highly', 'blamed', 'minutes', 'learning', 'quiet', 'empty', 'interesting', 'house', 'ride', 'shake', 'county', 'wearing', 'mom', 'refreshed', 'src', 'bear', 'path', 'taking', 'deserved', 'presence', 'lived', 'maybe', 'food', 'resolved', 'stopped', 'struggle', 'across', 'begin', 'questions', 'disgusted', 'game', 'unmotivated', 'sure', 'page', 'wasting', 'save', 'uncomfortable', 'questioning', 'basically', 'gratitude', 'toes', 'spending', 'wednesday', 'favorite', 'un', 'based', 'needing', 'wrote', 'might', 'runs', 'helpless', 'boyfriend', 'working', 'pissed', 'heading', 'find', 'honest', 'sees', 'worth', 'somehow', 'actual', 'deep', 'ended', 'man', 'touch', 'doubt', 'music', 'mix', 'cover', 'easily', 'rather', 'makes', 'jobs', 'sweet', 'third', 'evening', 'de', 'attention', 'england', 'sides', 'drink', 'heard', 'wonder', 'toilet', 'prayer', 'said', 'imagine', 'treats', 'shy', 'dinner', 'updating', 'last', 'youth', 'show', 'depressed', 'bunch', 'e', 'ideas', 'blogger', 'journey', 'mommy', 'new', 'stayed', 'doesnt', 'couple', 'tucked', 'pressure', 'okay', 'kids', 'hated', 'freezing', 'personally', 'hellip', 'understanding', 'saturday', 'mind', 'legs', 'progress', 'easy', 'hurting', 'course', 'life', 'equal', 'telling', 'content', 'minute', 'stressed', 'momo', 'treated', 'today', 'except', 'schedule', 'terrible', 'day', 'becoming', 'one', 'direction', 'felt', 'sibling', 'appreciate', 'computer', 'box', 'author', 'practice', 'series', 'read', 'sharing', 'onto', 'posted', 'sadly', 'gives', 'emotional', 'go', 'allow', 'losing', 'reach', 'thinking', 'present', 'following', 'video', 'far', 'growing', 'always', 'remembering', 'haha', 'oh', 'role', 'cos', 'students', 'decided', 'protect', 'awkward', 'watching', 'saw', 'feels', 'afraid', 'bag', 'wed', 'every', 'midst', 'upset', 'gt', 'times', 'pray', 'count', 'getting', 'although', 'bored', 'whole', 'weeks', 'potatoes', 'response', 'order', 'drained', 'drank', 'hurts', 'mad', 'instead', 'received', 'sale', 'somewhat', 'unprotected', 'choose', 'women', 'ending', 'matter', 'passionate', 'good', 'disney', 'ill', 'rarely', 'decide', 'return', 'idiot', 'feel', 'certainly', 'shed', 'wish', 'events', 'original', 'abilities', 'place', 'ago', 'gracious', 'listen', 'strong', 'oil', 'afterwards', 'special', 'often', 'starting', 'honored', 'carried', 'definitely', 'stood', 'moments', 'apart', 'apartment', 'blank', 'rising', 'chest', 'bond', 'necessary', 'news', 'dog', 'confident', 'plain', 'soon', 'id', 'figure', 'wont', 'presented', 'anxiety', 'shorts', 'youre', 'wouldnt', 'blue', 'visit', 'probably', 'public', 'wanna', 'important', 'soo', 'wouldve', 'ache', 'normal', 'person', 'tuck', 'system', 'cruel', 'hard', 'healing', 'nap', 'helped', 'story', 'distance', 'numbers', 'room', 'sunday', 'mouth', 'problems', 'dallas', 'broke', 'dropped', 'significant', 'season', 'asked', 'deal', 'month', 'saddened', 'cleaning', 'pretty', 'cause', 'took', 'novel', 'bee', 'annoyingly', 'seems', 'hours', 'nothing', 'whatever', 'related', 'buy', 'scan', 'cookies', 'baby', 'dad', 'foresee', 'happens', 'guilt', 'eat', 'grow', 'move', 'vain', 'optimistic', 'people', 'isnt', 'social', 'truth', 'emotion', 'freedom', 'providing', 'cant', 'nervous', 'floating', 'article', 'clock', 'behavior', 'plane', 'since', 'killing', 'learn', 'eating', 'gave', 'avoid', 'action', 'blood', 'immediately', 'complacent', 'christmas', 'breathing', 'serious', 'adventure', 'gotten', 'larger', 'message', 'comfort', 'wait', 'internet', 'helpful', 'damn', 'stuck', 'general', 'later', 'tons', 'concentrate', 'played', 'colours', 'continued', 'hide', 'asa', 'marathon', 'compassionate', 'period', 'group', 'balloon', 'loved', 'doctor', 'unhappy', 'coat', 'led', 'possible', 'take', 'years', 'less', 'figured', 'height', 'chosen', 'meals', 'burden', 'three', 'standard', 'yellow', 'task', 'fit', 'away', 'associate', 'middle', 'short', 'tongue', 'add', 'drama', 'happen', 'started', 'word', 'fight', 'accepted', 'busy', 'sad', 'grew', 'rel', 'worry', 'finish', 'ok', 'hopeful', 'mid', 'mixture', 'shame', 'comes', 'touching', 'spends', 'list', 'party', 'king', 'everywhere', 'wrong', 'energy', 'tasted', 'effects', 'loose', 'faith', 'martin', 'faithful', 'guns', 'offer', 'childhood', 'customers', 'thoroughly', 'walk', 'fingers', 'apple', 'hotel', 'fellow', 'morning', 'missed', 'part', 'around', 'human', 'miss', 'finally', 'honestly', 'lack', 'sleeping', 'earlier', 'character', 'city', 'respect', 'lifestyles', 'asks', 'make', 'never', 'circumstances', 'learned', 'goes', 'type', 'beloved', 'lost', 'already', 'snap', 'walked', 'use', 'pregnancy', 'seasons', 'viewers', 'studio', 'leaving', 'surprisingly', 'delicious', 'reading', 'power', 'colors', 'hit', 'obsession', 'million', 'relax', 'refuge', 'color', 'wife', 'daughter', 'funny', 'cases', 'kid', 'yoga', 'guitar', 'broken', 'death', 'overwhelmed', 'terrified', 'ribs', 'school', 'behind', 'struggling', 'done', 'tired', 'falling', 'currently', 'sky', 'advanced', 'play', 'idea', 'closely', 'ministry', 'got', 'socially', 'woke', 'running', 'call', 'amount', 'brain', 'clear', 'entertained', 'fighting', 'treasures', 'end', 'picking', 'smell', 'able', 'give', 'children', 'miserable', 'relationship', 'class', 'top', 'welcome', 'forget', 'makeup', 'bad', 'coming', 'help', 'chance', 'like', 'worried', 'songs', 'characters', 'single', 'growth', 'pain', 'anyone', 'forgive', 'beyond', 'release', 'stay', 'quest', 'plan', 'horny', 'secure', 'sick', 'common', 'guidance', 'moves', 'petty', 'crows', 'specific', 'right', 'wanting', 'week', 'doors', 'itll', 'thats', 'wonderful', 'gets', 'reasons', 'totally', 'old', 'hyper', 'nearly', 'bar', 'contact', 'table', 'faster', 'crazy', 'thankful', 'private', 'bought', 'protein', 'shit', 'lovely', 'hear', 'mashed', 'turning', 'least', 'gain', 'cheated', 'taken', 'situation', 'november', 'daniel', 'using', 'reminded', 'manage', 'possibly', 'explain', 'needed', 'granted', 'friends', 'animals', 'inside', 'alone', 'caring', 'quite', 'oldest', 'dreams', 'back', 'knows', 'told', 'jealous', 'straight', 'huge', 'excuse', 'hollywood', 'grounded', 'gifts', 'pride', 'slightly', 'jackson', 'happy', 'point', 'helps', 'remain', 'cannot', 'ignore', 'inspiration', 'perhaps', 'free', 'holiday', 'agitated', 'peoples', 'frustration', 'continue', 'heavenly', 'talented', 'written', 'heroes', 'meeting', 'folks', 'scale', 'facebook', 'particularly', 'unable', 'mothering', 'fully', 'share', 'tag', 'rest', 'family', 'line', 'absolutely', 'sitting', 'odd', 'cream', 'impact', 'walking', 'worse', 'complaining', 'fun', 'ways', 'glad', 'sense', 'want', 'wake', 'admired', 'embrace', 'worked', 'teaching', 'easier', 'work', 'regular', 'strike', 'pains', 'may', 'mean', 'question', 'tomorrow', 'impossible', 'receive', 'money', 'watched', 'exercise', 'us', 'guys', 'promised', 'standing', 'bf', 'lot', 'friend', 'adding', 'opened', 'program', 'aside']\n"
     ]
    }
   ],
   "source": [
    "palabras = []\n",
    "\n",
    "for x in vocab1:\n",
    "    conteo = sum(x in grupos[emocion] for emocion in grupos.index)\n",
    "    if conteo >= 2:\n",
    "        palabras.append(x)\n",
    "\n",
    "print(palabras)"
   ]
  },
  {
   "cell_type": "markdown",
   "id": "80b149ee-3402-4053-b8a8-3ec8b6688092",
   "metadata": {},
   "source": [
    "# Palabras con diferente significado  \n",
    "Si la misma palabra tiene diferente peso pero aparece en varias emociones se considera que tienen diferente significado"
   ]
  },
  {
   "cell_type": "code",
   "execution_count": 238,
   "id": "06fbed1d-30c0-4381-8dfa-87df983e6402",
   "metadata": {},
   "outputs": [
    {
     "name": "stdout",
     "output_type": "stream",
     "text": [
      "'strange en  'surprise\n",
      "'curious en  'surprise\n"
     ]
    }
   ],
   "source": [
    "important_words = {}\n",
    "min_tf_idf = 0.01           \n",
    "relative_difference = 2     \n",
    "\n",
    "emociones = list(grupos.index) \n",
    "\n",
    "for i in range(len(vocab1)):  \n",
    "    palabra = vocab1[i]\n",
    "    pesos = [tfidf[e][i] for e in range(len(emociones))]  \n",
    "    max_valor = max(pesos)\n",
    "    idx_max = pesos.index(max_valor)\n",
    "    emocion_max = emociones[idx_max]\n",
    "\n",
    "    if max_valor < min_tf_idf:\n",
    "        continue  \n",
    "\n",
    "    suma_otros = sum(pesos) - max_valor\n",
    "    promedio_otros = suma_otros / (len(pesos) - 1) if len(pesos) > 1 else 0\n",
    "\n",
    "    if promedio_otros > 0 and (max_valor / promedio_otros >= relative_difference):\n",
    "        important_words[palabra] = emocion_max\n",
    "\n",
    "\n",
    "for palabra, emocion in important_words.items():\n",
    "    print(f\"'{palabra} en  '{emocion}\")"
   ]
  },
  {
   "cell_type": "markdown",
   "id": "5a72de69-e0bc-4845-bf6f-08b966a74bcc",
   "metadata": {},
   "source": [
    "# Palabras mas frecuentes"
   ]
  },
  {
   "cell_type": "code",
   "execution_count": 256,
   "id": "c7dfcf69-1039-4063-856b-bc2bc0fb9c4e",
   "metadata": {},
   "outputs": [
    {
     "name": "stdout",
     "output_type": "stream",
     "text": [
      "\n",
      "Top 15 palabras más frecuentes:\n",
      "feel: 1394 veces\n",
      "feeling: 646 veces\n",
      "like: 373 veces\n",
      "im: 310 veces\n",
      "really: 118 veces\n",
      "know: 102 veces\n",
      "time: 100 veces\n",
      "get: 97 veces\n",
      "people: 96 veces\n",
      "little: 95 veces\n",
      "one: 84 veces\n",
      "even: 79 veces\n",
      "would: 75 veces\n",
      "ive: 73 veces\n",
      "want: 72 veces\n"
     ]
    }
   ],
   "source": [
    "tokensT = df[\"Tokens\"].tolist()\n",
    "\n",
    "frecuencia = {}\n",
    "for x in tokensT:\n",
    "    for y in x:\n",
    "        if y in frecuencia:\n",
    "            frecuencia[y] += 1\n",
    "        else:\n",
    "            frecuencia[y] = 1\n",
    "\n",
    "\n",
    "ordenadas = sorted(frecuencia.items(), key=lambda x: -x[1])\n",
    "\n",
    "print(\"\\nTop 15 palabras más frecuentes:\")\n",
    "for i in range(15):\n",
    "    palabra, freq = ordenadas[i]\n",
    "    print(f\"{palabra}: {freq} veces\")\n"
   ]
  },
  {
   "cell_type": "markdown",
   "id": "43cc1407-ee99-41bd-b3f6-cbc50a619fc4",
   "metadata": {},
   "source": [
    "# longitud promedio de las oraciones"
   ]
  },
  {
   "cell_type": "code",
   "execution_count": 274,
   "id": "ebc0a712-d249-4ba3-a086-edec5853c766",
   "metadata": {},
   "outputs": [
    {
     "name": "stdout",
     "output_type": "stream",
     "text": [
      "sadness: 9.26 palabras por oración\n",
      "joy: 9.27 palabras por oración\n",
      "fear: 8.86 palabras por oración\n",
      "anger: 9.55 palabras por oración\n",
      "love: 9.74 palabras por oración\n",
      "surprise: 9.39 palabras por oración\n"
     ]
    }
   ],
   "source": [
    "emociones = df[\"Emocion\"].tolist()\n",
    "tokens_por_oracion = df[\"Tokens\"].tolist()\n",
    "\n",
    "sumaL = {}\n",
    "conteo = {}\n",
    "\n",
    "\n",
    "for i in range(len(tokens_por_oracion)):\n",
    "    emocion = emociones[i]\n",
    "    longitud = len(tokens_por_oracion[i])\n",
    "\n",
    "    if emocion in sumaL:\n",
    "        sumaL[emocion] += longitud\n",
    "        conteo[emocion] += 1\n",
    "    else:\n",
    "        sumaL[emocion] = longitud\n",
    "        conteo[emocion] = 1\n",
    "\n",
    "for emocion in sumaL:\n",
    "    promedio = sumaL[emocion] / conteo[emocion]\n",
    "    print(f\"{emocion}: {promedio:.2f} palabras por oración\")\n"
   ]
  },
  {
   "cell_type": "markdown",
   "id": "4a0275b7-7cb3-4986-b5d7-6582da2a1cb8",
   "metadata": {},
   "source": [
    "# Palabras exclusivas de cada clase"
   ]
  },
  {
   "cell_type": "code",
   "execution_count": 252,
   "id": "3407985b-d394-45cf-a900-3e44d7e07bda",
   "metadata": {},
   "outputs": [
    {
     "name": "stdout",
     "output_type": "stream",
     "text": [
      "\n",
      "surprise (431 palabras): ['telephone', 'jest', 'pre', 'menstrual', 'walrus', 'bcoz', 'n', 'publicity', 'outraged', 'recommend', 'visiting', 'crowded', 'farmers', 'irish', 'democratic', 'enact', 'electricity', 'garbage', 'envious', 'frog', 'neck', 'thoughtful', 'soften', 'grab', 'smooth', 'frame', 'pals', 'offhand', 'remark', 'crumble', 'fucked', 'piddled', 'weather', 'kidding', 'impatient', 'bitter', 'ellie', 'insulted', 'douche', 'baggy', 'lothaire', 'according', 'insults', 'somebody', 'quinn', 'barney', 'ted', 'robin', 'flashed', 'hockey', 'degree', 'coerced', 'rushed', 'flustered', 'pool', 'debate', 'dichotomy', 'irritable', 'unresolved', 'severe', 'effect', 'cashier', 'fumble', 'coins', 'purse', 'lies', 'shattered', 'delivery', 'justice', 'conceptualized', 'courts', 'emphasis', 'stella', 'noticing', 'outsourcing', 'picky', 'sod', 'dissatisfied', 'outsource', 'struggled', 'mightily', 'cranky', 'eleven', 'thirty', 'dhawan', 'tweet', 'javascript', 'platform', 'royally', 'wreaking', 'havoc', 'destroying', 'urges', 'freak', 'caused', 'scratch', 'este', 'loada', 'maybee', 'bitt', 'crampy', 'briar', 'beagle', 'exercising', 'souless', 'surroundings', 'immensely', 'barrage', 'solicit', 'envy', 'survived', 'beings', 'instinct', 'pavement', 'yurusei', 'yatsura', 'coheed', 'cambria', 'ripped', 'contain', 'encompass', 'riches', 'bash', 'leaders', 'pete', 'edochie', 'responds', 'hostile', 'extent', 'acquired', 'couples', 'fall', 'violent', 'obnoxious', 'nagging', 'alonger', 'tolerating', 'revising', 'session', 'attended', 'attacked', 'attack', 'alive', 'offend', 'enforce', 'playdate', 'noah', 'hari', 'raya', 'greedy', 'prebook', 'kueh', 'makmur', 'tart', 'hygiene', 'ingredients', 'comparison', 'decent', 'argue', 'bitchy', 'nonstop', 'lefty', 'propaganda', 'churns', 'tuned', 'dangerous', 'believer', 'rearranged', 'flat', 'justify', 'laziness', 'skinny', 'understands', 'resentful', 'wronged', 'utterly', 'contemplating', 'uttered', 'wings', 'patiently', 'destroy', 'stubborn', 'lower', 'followers', 'uninstalling', 'skype', 'deactivateing', 'hatena', 'accounts', 'sport', 'pe', 'forgetting', 'heartless', 'unconditional', 'accustomed', 'unwillingly', 'leaves', 'grouchy', 'unsettled', 'listening', 'chinesepod', 'savage', 'leader', 'sarcastic', 'vicious', 'escape', 'cycles', 'predator', 'victim', 'catching', 'elevate', 'mire', 'cosplay', 'goons', 'invites', 'irrelevant', 'impersonal', 'insincere', 'appeased', 'eagles', 'rawr', 'org', 'scientology', 'devoured', 'wa', 'wonderfully', 'sleazy', 'bohemian', 'punch', 'kick', 'wnat', 'gnawing', 'january', 'diary', 'vets', 'dammit', 'waves', 'arrives', 'lying', 'experiments', 'suspects', 'plastic', 'proper', 'presentation', 'headway', 'mere', 'shooting', 'daggers', 'entirely', 'annuals', 'spruce', 'doorstep', 'bottle', 'squeals', 'pity', 'statements', 'disagree', 'finishing', 'manchester', 'blackpool', 'mile', 'humour', 'spoke', 'chilli', 'emo', 'minded', 'fair', 'max', 'souls', 'boyfriends', 'avoided', 'blazes', 'markers', 'aggravated', 'visits', 'furious', 'believes', 'annoying', 'nano', 'rape', 'torture', 'whining', 'practicing', 'stingy', 'asleep', 'unjustified', 'badminton', 'cretins', 'tacky', 'straddling', 'articulacy', 'incoherence', 'reckon', 'realistic', 'tip', 'jar', 'aches', 'faiting', 'overly', 'drew', 'grumpily', 'condoning', 'terrorist', 'powerless', 'crew', 'pig', 'lt', 'bc', 'afterward', 'yay', 'gna', 'chocolates', 'zjs', 'bai', 'tu', 'tang', 'compassion', 'spiritual', 'ingorant', 'participating', 'edgy', 'ratings', 'iris', 'silently', 'egyptian', 'youngsters', 'identified', 'born', 'labeling', 'assimilated', 'brian', 'prolonged', 'assertion', 'alien', 'relate', 'repercussion', 'molested', 'appalled', 'advantage', 'vulgar', 'gees', 'yelled', 'lady', 'rang', 'unfairly', 'vile', 'throat', 'lid', 'rebellious', 'stops', 'motivated', 'pics', 'status', 'updates', 'doingaone', 'eighty', 'spiteful', 'abit', 'plus', 'flu', 'exexbf', 'caustic', 'influx', 'idiots', 'flists', 'anna', 'ji', 'jan', 'lokpal', 'bill', 'protests', 'resulting', 'lazy', 'lashes', 'itd', 'argued', 'p', 'partner', 'listens', 'rolling', 'urine', 'bothering', 'gardeners', 'hens', 'brilliance', 'stars', 'frozen', 'fields', 'shield', 'wicking', 'winter', 'quit', 'smoking', 'seldom', 'hows', 'rational', 'exams', 'celebration', 'shades', 'weekday', 'joined', 'directly', 'primary', 'unkind', 'teensiest', 'regards', 'oftentimes', 'toast', 'champagne', 'properly', 'enraged', 'tourist', 'crashing', 'estrogen', 'ish', 'legally', 'smoke', 'selfish', 'bah', 'cooped', 'refine', 'poses', 'concepts', 'airport', 'sadder', 'delilahlwl', 'raping', 'chicks', 'fiance', 'doctors', 'appointment']\n",
      "\n",
      "surprise (307 palabras): ['shop', 'anywhere', 'pay', 'deepens', 'invaded', 'fearful', 'insecure', 'restless', 'gym', 'uncertain', 'merits', 'frequency', 'earnestness', 'previous', 'metformin', 'frustrations', 'leading', 'mabel', 'named', 'breast', 'hazel', 'valerie', 'diagnosis', 'shaky', 'suspicious', 'screen', 'ticking', 'frantic', 'dean', 'wildly', 'rib', 'cage', 'bigger', 'spilling', 'elastic', 'tight', 'reluctant', 'exit', 'freshly', 'cleaned', 'haul', 'mustard', 'sauce', 'startled', 'interestingly', 'incredible', 'landlord', 'locks', 'andrea', 'tries', 'chris', 'unsure', 'informality', 'credentials', 'pressured', 'near', 'skeptical', 'alarmed', 'obtain', 'dance', 'pitchers', 'mound', 'league', 'diamond', 'balancing', 'hanging', 'distraught', 'wimpy', 'canoe', 'tsunami', 'indicated', 'traveling', 'indecisive', 'lead', 'disharmony', 'agn', 'lol', 'voices', 'hmmm', 'heyy', 'prohibited', 'constrained', 'hesitant', 'twenty', 'nowhere', 'brethren', 'spiritually', 'alternative', 'abandoning', 'strappy', 'thrifted', 'ninewest', 'idc', 'ventured', 'fabrics', 'whim', 'comfor', 'shoulders', 'doubtful', 'leads', 'shaken', 'goose', 'superfluous', 'jenn', 'elaine', 'reported', 'marginalized', 'intimidated', 'subjected', 'threats', 'retaliation', 'sorting', 'cat', 'houses', 'lunchtime', 'printer', 'ordeal', 'uptight', 'depends', 'bipolar', 'core', 'sinful', 'grabbed', 'hugged', 'fiercly', 'completly', 'emma', 'pit', 'buying', 'obvious', 'uneasy', 'warnings', 'crime', 'guidebook', 'residual', 'threatened', 'hiked', 'steep', 'hillside', 'loaded', 'grass', 'bushes', 'nauseous', 'yearned', 'deprivation', 'patterns', 'doubting', 'distressed', 'dejected', 'battle', 'insomnia', 'wept', 'slept', 'die', 'college', 'helplessness', 'lift', 'timid', 'mindful', 'intimidating', 'tiny', 'travelling', 'unwind', 'empathise', 'uninterested', 'confusion', 'suffocated', 'paranoid', 'confess', 'movement', 'consistently', 'appearance', 'someones', 'coincidence', 'appealing', 'routines', 'exploring', 'roles', 'physical', 'triggering', 'stereotype', 'sandwich', 'vest', 'tops', 'cellulite', 'fired', 'detectin', 'leaf', 'battering', 'ure', 'sins', 'sloth', 'bombing', 'incident', 'lyrics', 'sounds', 'hum', 'driver', 'shout', 'prize', 'drunkenly', 'grabbing', 'waist', 'attempted', 'murmur', 'nothings', 'ear', 'ole', 'syndrome', 'shifted', 'excess', 'swedish', 'encourage', 'div', 'clearboth', 'padding', 'bottom', 'performing', 'modules', 'athletic', 'field', 'spontaneous', 'fe', 'ruin', 'fairy', 'tale', 'affair', 'judgement', 'necessity', 'drawings', 'li', 'pouring', 'moonlight', 'shines', 'pale', 'closed', 'scorn', 'grits', 'plumb', 'excuses', 'seek', 'vibration', 'fats', 'elses', 'mopey', 'occured', 'decreasing', 'logarythmic', 'broads', 'san', 'vicente', 'confusing', 'extended', 'slatebook', 'recovering', 'illness', 'tuition', 'teacher', 'bout', 'pursuits', 'dragons', 'installment', 'feast', 'demonstrate', 'understood', 'yeah', 'asthma', 'weak', 'helplessly', 'collapesing', 'reseach', 'random', 'cloud', 'jenny', 'spayed', 'encountered', 'shot', 'terbutaline', 'cups', 'search', 'danger', 'carrying', 'volvo', 'tidy', 'unsimilar', 'beer', 'waddle', 'costume', 'overwhelmingly', 'bible', 'petrified', 'releasing', 'cap', 'utter', 'horror', 'chewing', 'metallic', 'pacman', 'pacquiao', 'gifted', 'intricate', 'classes', 'abou', 'billion', 'bugging', 'disappeared', 'rage']\n",
      "\n",
      "surprise (1198 palabras): ['bouquet', 'tulips', 'arm', 'clung', 'immature', 'uncommitted', 'university', 'virginia', 'breathless', 'reader', 'eager', 'mellow', 'reds', 'purples', 'rich', 'perfect', 'appreciative', 'posts', 'vague', 'snippets', 'bits', 'capture', 'dublin', 'st', 'century', 'virtuous', 'dipped', 'hummus', 'honoured', 'included', 'magzine', 'prioritises', 'magazines', 'green', 'parent', 'barcomb', 'ali', 'boe', 'welcomed', 'union', 'reassured', 'diet', 'delighted', 'friendly', 'productive', 'competing', 'explained', 'schaub', 'interview', 'bleacherreport', 'carte', 'blanche', 'sociable', 'hiding', 'unhealthy', 'sistahs', 'invigorated', 'proponents', 'charming', 'transcendant', 'splendid', 'relaxed', 'comfy', 'privileged', 'trusting', 'paradise', 'kissing', 'lips', 'dive', 'magical', 'approximate', 'pace', 'acceptable', 'flies', 'carefree', 'alright', 'wall', 'energetic', 'manner', 'input', 'valued', 'potent', 'irfan', 'pathan', 'sound', 'innocent', 'compost', 'bin', 'pleasant', 'develop', 'likes', 'dislikes', 'keen', 'evictions', 'returned', 'webmates', 'zero', 'wonderfull', 'vital', 'controlling', 'business', 'determined', 'radiant', 'bright', 'accomplished', 'refrigerator', 'magnets', 'popular', 'boarded', 'airbus', 'headed', 'hazy', 'en', 'honolulu', 'works', 'literally', 'uhm', 'sincere', 'concern', 'forward', 'sexuality', 'witnessed', 'novice', 'identical', 'riders', 'spa', 'facial', 'colleagues', 'join', 'worthwhile', 'amused', 'pti', 'jamiat', 'suggestion', 'protesting', 'sharia', 'raymond', 'davis', 'amman', 'beirut', 'istanbul', 'jessicadickinsongoodman', 'fab', 'odds', 'officer', 'memorial', 'reflect', 'triumphant', 'dramatic', 'sums', 'reached', 'unfathomably', 'brazen', 'desired', 'result', 'demeanor', 'youtube', 'hole', 'hyped', 'pb', 'attempt', 'casual', 'kilometre', 'shuffle', 'garmin', 'bike', 'transition', 'cheers', 'adrenaline', 'trick', 'cards', 'safer', 'hr', 'eternal', 'precious', 'churches', 'joining', 'masses', 'rebellion', 'mentality', 'ha', 'goth', 'clever', 'association', 'positive', 'helping', 'appreciated', 'sd', 'gather', 'via', 'internal', 'exam', 'midwife', 'iv', 'calmly', 'assistance', 'calmness', 'prestigious', 'award', 'adventurous', 'distinguished', 'superior', 'completed', 'aaaah', 'greeted', 'families', 'non', 'judgemental', 'benevolent', 'peanuts', 'pin', 'button', 'layout', 'horizontal', 'fondling', 'cock', 'boxers', 'instinctively', 'arched', 'sensation', 'lucky', 'fades', 'breath', 'scent', 'beliefs', 'lock', 'somewhere', 'squared', 'aid', 'infertility', 'disorders', 'valuable', 'individual', 'offered', 'restricted', 'crafts', 'struck', 'masculine', 'graphics', 'painting', 'nighthawks', 'edward', 'hopper', 'grassroots', 'preservation', 'contented', 'regard', 'sometime', 'electrocuted', 'thumb', 'paper', 'online', 'turtle', 'sneaked', 'dead', 'chemo', 'complimentary', 'email', 'reads', 'provoking', 'perspectives', 'undergo', 'beauty', 'treatments', 'lively', 'slalom', 'embraced', 'partition', 'thus', 'carb', 'meal', 'bars', 'smug', 'spotted', 'pies', 'muffins', 'attractive', 'foods', 'candy', 'thinly', 'sliced', 'limes', 'mineral', 'glamorous', 'humored', 'pretentious', 'japanese', 'writers', 'lines', 'float', 'bullshit', 'bye', 'terrific', 'roling', 'cyclinders', 'finland', 'visual', 'artist', 'vesa', 'kivinen', 'called', 'shortlisted', 'patient', 'ambassador', 'volunteer', 'category', 'recognises', 'members', 'staff', 'provide', 'outstanding', 'volunteering', 'partnership', 'forum', 'patients', 'panel', 'satisfied', 'win', 'games', 'tournament', 'fill', 'hostage', 'negotiator', 'causes', 'push', 'charities', 'worthy', 'sanctum', 'paintings', 'lining', 'morph', 'ensure', 'construction', 'fancy', 'view', 'downtown', 'assumed', 'persevered', 'rejections', 'expecting', 'rendall', 'munroe', 'underestimated', 'realizes', 'parade', 'enjoys', 'jen', 'mitchell', 'gorgeous', 'card', 'alternating', 'dads', 'sheep', 'among', 'normalcy', 'valid', 'enjorlas', 'marius', 'ship', 'mostly', 'sided', 'schoolboy', 'whims', 'concequences', 'profoundly', 'icons', 'bucking', 'quarters', 'apologise', 'quality', 'websites', 'captions', 'burned', 'oops', 'divine', 'landmass', 'greatness', 'residing', 'alcoholism', 'widely', 'norm', 'gay', 'culture', 'realizing', 'coke', 'regardless', 'junk', 'consumed', 'nini', 'convinced', 'intended', 'oddly', 'sacred', 'actively', 'genres', 'fearless', 'courageous', 'phew', 'designing', 'earrings', 'bridesmaids', 'adopt', 'derby', 'create', 'code', 'presenting', 'misunderstood', 'vice', 'versa', 'advice', 'disorder', 'hugs', 'kisses', 'drunk', 'fireworks', 'toddler', 'rebooted', 'useful', 'facing', 'tested', 'drugs', 'martina', 'fodder', 'scheme', 'packed', 'brown', 'grieving', 'loves', 'stepchildren', 'dd', 'exceptionally', 'outgoing', 'waved', 'neighbors', 'downstairs', 'relieved', 'yarn', 'overs', 'lace', 'prime', 'minister', 'israel', 'jew', 'gathered', 'hosting', 'reasoning', 'lull', 'prepare', 'concerns', 'poetry', 'language', 'pacific', 'aesthetics', 'avant', 'garde', 'eco', 'boat', 'sweden', 'till', 'flavors', 'ginger', 'sesame', 'salad', 'joyful', 'silent', 'protected', 'definiteness', 'assured', 'berry', 'cute', 'continually', 'demand', 'address', 'tough', 'departments', 'complain', 'heals', 'dress', 'locked', 'gun', 'access', 'kept', 'economy', 'k', 'dumped', 'rudy', 'theyve', 'donald', 'educate', 'densely', 'meanderings', 'inherent', 'shortcomings', 'conference', 'malm', 'smitten', 'vote', 'voting', 'doraemon', 'backpack', 'etsy', 'sell', 'mathematics', 'subjects', 'playful', 'gold', 'heaven', 'reinforces', 'belief', 'ecstatic', 'expereince', 'snowy', 'ohio', 'countryside', 'eve', 'postcard', 'announce', 'tune', 'rhythm', 'needles', 'softness', 'deliver', 'girly', 'graceful', 'wisdom', 'expense', 'slump', 'laceys', 'constant', 'disapprovements', 'rikkis', 'happiness', 'spaces', 'characteristics', 'showing', 'nosy', 'website', 'strangely', 'festive', 'picked', 'identifying', 'scary', 'warning', 'signs', 'sticking', 'begging', 'fate', 'mess', 'size', 'medium', 'wp', 'image', 'techfeel', 'uploads', 'google', 'hindi', 'x', 'requests', 'sewing', 'circles', 'spit', 'imperialism', 'lesbian', 'bouncy', 'twitchy', 'restive', 'maker', 'legitimate', 'matters', 'birthday', 'crud', 'industries', 'citizens', 'nation', 'given', 'enemies', 'theu', 'righteous', 'ego', 'item', 'mission', 'offices', 'african', 'tram', 'fee', 'spring', 'reasonable', 'priced', 'mounting', 'pile', 'utility', 'bills', 'british', 'researched', 'intelligent', 'consuming', 'preparation', 'tianjin', 'september', 'lessons', 'handle', 'basics', 'insight', 'total', 'mystery', 'shoot', 'weddings', 'clients', 'giggling', 'clapping', 'wagon', 'genuinely', 'celebrity', 'widget', 'orange', 'squash', 'cup', 'bringing', 'gift', 'careened', 'equally', 'kareena', 'akshay', 'kumar', 'double', 'flash', 'minissha', 'amisha', 'patel', 'avtaar', 'succeded', 'government', 'murder', 'illegal', 'immigrant', 'alley', 'prosecute', 'juices', 'beginning', 'flow', 'fantastic', 'painful', 'creepily', 'ghost', 'hallways', 'succumb', 'imagined', 'form', 'fitting', 'clothing', 'lighter', 'exploited', 'bruno', 'marzzz', 'passersby', 'priceless', 'mum', 'trusts', 'pimp', 'raini', 'rocky', 'casting', 'director', 'dressing', 'attempting', 'fashionable', 'pronto', 'acceptance', 'ascension', 'higher', 'conscience', 'aesthetic', 'rapture', 'camping', 'nursing', 'skills', 'f', 'sweatshirt', 'photos', 'prejudging', 'btw', 'tt', 'stutter', 'judges', 'dearest', 'jolly', 'cabernet', 'aggressive', 'tend', 'congenial', 'ages', 'update', 'bruising', 'remove', 'blast', 'alongside', 'humbling', 'influence', 'childs', 'internalized', 'accounted', 'dating', 'koreans', 'tends', 'missy', 'jane', 'angel', 'airbrushing', 'model', 'treatment', 'extend', 'chant', 'invocation', 'teach', 'enjoyed', 'atlantic', 'ocean', 'brazil', 'olu', 'jacobs', 'subsided', 'youll', 'intervention', 'solution', 'fieldtrip', 'classy', 'redesign', 'begins', 'sunshine', 'elusive', 'wind', 'fabulous', 'bitches', 'hahah', 'rigs', 'weve', 'apostrophe', 'spell', 'tranquil', 'sculpt', 'greek', 'goddess', 'amazingly', 'relaxes', 'satisfy', 'value', 'teachers', 'stressful', 'fancied', 'terrains', 'pass', 'harley', 'davidsons', 'earshot', 'forcing', 'kame', 'wet', 'brush', 'traffic', 'crib', 'empathize', 'tab', 'raging', 'hormones', 'thinks', 'dear', 'jordan', 'distraction', 'owning', 'cellphone', 'awfully', 'fielding', 'incredulous', 'shining', 'alumninium', 'announced', 'selected', 'lilongwe', 'sciences', 'medical', 'assistat', 'alcoholic', 'husbands', 'godly', 'ultrasounds', 'distinctly', 'consume', 'homemade', 'chex', 'cereal', 'exclusively', 'opinion', 'charmed', 'sons', 'scented', 'follower', 'donna', 'tiredness', 'goldschlager', 'networks', 'rockstar', 'razzle', 'dazzle', 'lifestyle', 'clearer', 'giant', 'discomfort', 'crowds', 'bridge', 'massive', 'stopping', 'beats', 'foundation', 'market', 'ulta', 'sephora', 'reviews', 'lovers', 'brewer', 'hawkshead', 'newest', 'pubs', 'publicly', 'bless', 'virus', 'recover', 'pump', 'halfway', 'election', 'nfl', 'barn', 'convey', 'simultaneous', 'enjoyment', 'cycling', 'element', 'condiment', 'pressies', 'centre', 'achieved', 'roosters', 'teamed', 'horses', 'bulls', 'sharks', 'monsters', 'ranch', 'chub', 'dreamed', 'squeeze', 'involved', 'items', 'identify', 'stimulated', 'likeable', 'monarchs', 'ineffectual', 'marriage', 'deserves', 'truthful', 'explanation', 'minds', 'rat', 'bodies', 'lose', 'typed', 'pressures', 'daunted', 'admire', 'succumbed', 'listers', 'recharged', 'greatly', 'flirt', 'gestating', 'aspire', 'tension', 'austere', 'introspective', 'method', 'euskc', 'ton', 'thrift', 'pieces', 'trends', 'cheap', 'celebrated', 'believing', 'jeremy', 'slytherin', 'cost', 'react', 'tonks', 'provides', 'income', 'permalink', 'atheism', 'uncharted', 'maturity', 'aka', 'midlife', 'crisis', 'transformation', 'tracy', 'anderson', 'leadership', 'vision', 'missionary', 'apt', 'varies', 'employed', 'dare', 'titles', 'concluded', 'ominously', 'achieve', 'detox', 'cleanse', 'cleanses', 'utah', 'freaking', 'stresses', 'lovingly', 'eliminated', 'skillz', 'da', 'bomb', 'whipping', 'lingo', 'yers', 'underneath', 'ya', 'alex', 'glow', 'scenario', 'pictured', 'duo', 'portraiture', 'whimsical', 'randomly', 'reference', 'cut', 'overflow', 'stsm', 'smiling', 'mansoor', 'artistic', 'raise', 'raised', 'structural', 'linguistics', 'deconstructionist', 'clamours', 'followed', 'revealing', 'slower', 'treadmill', 'relative', 'inactivity', 'golden', 'nugget', 'dig', 'satisfaction', 'privacy', 'camp', 'respond', 'anythings', 'counseling', 'drift', 'swear', 'browns', 'devil', 'hates', 'biostatistics', 'physiology', 'touchy', 'insightful', 'salvation', 'army', 'issue', 'automatically', 'combine', 'outpourings', 'postgraduate', 'kicking', 'average', 'decently', 'delivering', 'speech', 'legacy', 'none', 'respirometry', 'nightmare', 'per', 'tradition', 'compensate', 'topper', 'boobs', 'fulfill', 'scattering', 'ashes', 'fundamental', 'discovered', 'wiggy', 'lib', 'stance', 'georgie', 'porgie', 'vibe', 'culinary', 'moderately', 'container', 'stare', 'major', 'actions', 'litsen', 'birth', 'teens', 'prolific', 'fandom', 'claims', 'oily', 'applying', 'sofa', 'glares', 'firmly', 'craft', 'finding', 'mass', 'audience', 'desires', 'merely', 'tools', 'invite', 'homes', 'resemble', 'conversations', 'strangers', 'freshness', 'actor', 'slight', 'bitterness', 'detracted', 'mouthfeel', 'replaced', 'gaming', 'attached', 'snatch', 'lap', 'seconds', 'submits', 'scratches', 'recruiter', 'basketball', 'multiple', 'tiers', 'facsimilogos', 'giveaway', 'inaugural', 'runners', 'host', 'lifes', 'dismays', 'misled', 'shelter', 'prank', 'occurs', 'outrageously', 'vaster', 'nailed', 'aspects', 'southern', 'belated', 'l', 'insensitive', 'serving', 'pleeeeeease', 'declined', 'squishing', 'developed', 'explaining', 'puppy', 'nine', 'anyway', 'pork', 'loins', 'gallon', 'ziplocks', 'marinade', 'freezer', 'reward', 'elegant', 'giggle', 'grandmother', 'attempts', 'perfection', 'transparent', 'lobelia', 'nonetheless', 'sucker', 'overhead', 'obtaining', 'mba', 'outcomes', 'declaring', 'boundless', 'hearty', 'spark', 'flame', 'attraction', 'activity', 'talent', 'career', 'wise', 'dusted', 'chillax', 'jeans', 'tshirt', 'worrying', 'prove', 'resisting', 'analyse', 'musicjuzz', 'giggly', 'tags', 'virtual', 'unit', 'simulation', 'midwifery', 'education', 'piece', 'canvas', 'jehovah', 'vibrations', 'sssas', 'worn', 'crap', 'buried', 'dripping', 'blues', 'serene', 'dominating', 'active', 'compliment', 'caleb', 'comus', 'inn', 'causing', 'niche', 'explored', 'modernization', 'detraction', 'underappreciated', 'sundays', 'effacing', 'settled', 'xanax', 'slows', 'allows', 'motivation', 'bands', 'comers', 'fortunate', 'photographer', 'weaving', 'clamoring', 'complaints', 'chase', 'stone', 'bassanio', 'wooing', 'portia', 'gaining', 'nose', 'newbie', 'bloggers', 'engagement', 'hawaii', 'turns', 'skies', 'temperatures', 'hovering', 'degrees', 'animators', 'pixar', 'outdid', 'lighthearted', 'banter', 'unwittingly', 'replacing', 'mark', 'solid', 'informational', 'dummies', 'phrase', 'thy', 'achievement', 'shell']\n",
      "\n",
      "surprise (269 palabras): ['position', 'supportive', 'naughty', 'border', 'foreigner', 'land', 'gentle', 'neglecting', 'heres', 'chuckle', 'depend', 'supported', 'tender', 'enfold', 'loyal', 'nutritionally', 'wth', 'sympathetic', 'airline', 'american', 'fire', 'pilot', 'exploded', 'obligations', 'smiled', 'longing', 'scanning', 'magazine', 'thi', 'turned', 'romantic', 'relationships', 'weary', 'split', 'effortless', 'hs', 'productions', 'theatre', 'schools', 'endorse', 'pursuing', 'troops', 'demanding', 'harm', 'threaten', 'unconditionally', 'adoring', 'teh', 'ventrured', 'mic', 'sinfully', 'affectionate', 'molesting', 'stranger', 'nagged', 'dread', 'diagnosed', 'delicate', 'dried', 'rose', 'petals', 'apologizing', 'latest', 'osp', 'rand', 'license', 'terms', 'hundreds', 'connecting', 'forgiving', 'closes', 'universe', 'gb', 'iphone', 'buyers', 'responded', 'appropriately', 'angels', 'steady', 'hesitation', 'packaging', 'flag', 'religious', 'hubbard', 'acknowledge', 'brings', 'interviews', 'deserve', 'pedicure', 'massaging', 'tootsies', 'kermit', 'species', 'compellingly', 'pence', 'abba', 'pointing', 'sin', 'amalgamation', 'aunts', 'prickly', 'whiskers', 'repulsed', 'mattered', 'judged', 'along', 'bonded', 'fiercely', 'reacting', 'observing', 'priestess', 'temple', 'ven', 'devoted', 'talia', 'loses', 'devotions', 'rank', 'devotion', 'se', 'inscrie', 'intr', 'rafinament', 'lejer', 'si', 'extrem', 'feminin', 'levels', 'cared', 'knitting', 'awesome', 'programs', 'crafting', 'quilty', 'stitch', 'wars', 'treasured', 'london', 'flatmates', 'neat', 'remourseful', 'plans', 'sids', 'blogs', 'represent', 'politics', 'conveyed', 'careful', 'featured', 'spot', 'flex', 'cowboy', 'rides', 'temporarily', 'bishop', 'chronicles', 'traipse', 'tromping', 'heel', 'hearts', 'stilettos', 'jealousy', 'contempt', 'acquaintances', 'portrayed', 'prescence', 'proclaiming', 'pulsars', 'hilarious', 'affirmed', 'sensuous', 'generations', 'condition', 'neighbourhood', 'dogs', 'quixotic', 'moonbeam', 'shine', 'added', 'dreamily', 'reduce', 'environment', 'babsbrisbane', 'reversed', 'omg', 'tug', 'gestures', 'considered', 'jogging', 'ankle', 'gazing', 'encouraging', 'concentrated', 'mindset', 'planning', 'overjoyed', 'thrill', 'amorous', 'normalized', 'forgotten', 'oblivion', 'progesterone', 'breasts', 'discover', 'stirred', 'memories', 'scenery', 'cruise', 'gotta', 'slutty', 'bite', 'considerate', 'warmer', 'harmonizes', 'whatsoever', 'iron', 'cineworld', 'tap', 'flower', 'expression', 'betray', 'entertain', 'topics', 'adore', 'didint', 'austin', 'impression', 'banjo', 'molly', 'prefers', 'katy', 'perry', 'purrrr', 'plantings', 'dip', 'injuries', 'setbacks', 'infection', 'inner', 'presents', 'fashion', 'valentines', 'micah', 'stable', 'lesson', 'roll', 'labia', 'sucking', 'nibbling', 'drawing', 'flesh', 'pinch', 'teeth', 'warms', 'laughter', 'blessing', 'crowd', 'stoner', 'escaped', 'disquiet', 'recognized', 'polyamorous', 'warmth', 'discussions', 'slanted', 'reminders', 'travel', 'blame', 'infact']\n",
      "\n",
      "surprise (836 palabras): ['rotten', 'ambitious', 'shitty', 'separate', 'ashamed', 'beautifully', 'handful', 'baba', 'heartbroken', 'katniss', 'tear', 'sails', 'pessimism', 'discontent', 'dull', 'nostalgia', 'luck', 'hopes', 'stigmatized', 'stigma', 'stole', 'authors', 'defective', 'fever', 'humiliated', 'embarrassed', 'foolish', 'kinds', 'agree', 'unpleasant', 'punished', 'distractions', 'gardening', 'blessings', 'submissive', 'stupid', 'pbss', 'fault', 'unloved', 'dehydrated', 'burnt', 'mistake', 'shower', 'crappy', 'pollen', 'barometric', 'kilter', 'ex', 'girlfriend', 'awaiting', 'unwelcome', 'visitor', 'nevertheless', 'weepy', 'strung', 'maggie', 'cum', 'relief', 'journaled', 'overcommit', 'discouraged', 'disheartened', 'troubled', 'van', 'circus', 'buses', 'lyric', 'sentimental', 'whiney', 'sf', 'redshank', 'sandpiper', 'lone', 'wood', 'edge', 'awful', 'doomed', 'woken', 'alarm', 'groggy', 'gloomy', 'rainy', 'calling', 'deeper', 'kith', 'kin', 'ed', 'shamed', 'ate', 'shameful', 'tail', 'deprived', 'homesick', 'angsty', 'listless', 'interest', 'arrises', 'burdened', 'loser', 'defeated', 'loosing', 'solitary', 'confinement', 'lonely', 'lousy', 'focusing', 'trips', 'trailer', 'dirty', 'carry', 'damaged', 'ugly', 'heroine', 'tragic', 'manga', 'ambushed', 'apparently', 'worthless', 'wholly', 'inadequate', 'disillusioned', 'occult', 'greater', 'daycare', 'devastated', 'laughs', 'porch', 'sunlight', 'bathed', 'radiance', 'breeze', 'cooled', 'cheeks', 'art', 'copied', 'unappreciated', 'continues', 'sickness', 'chai', 'nolonger', 'rewind', 'dvred', 'commercials', 'dawn', 'preview', 'attaining', 'calming', 'abyss', 'urban', 'outfitters', 'mm', 'film', 'remorseful', 'princess', 'dumb', 'wilt', 'floor', 'vessel', 'radiation', 'leaked', 'melancholy', 'certified', 'stander', 'jaded', 'everythings', 'captivated', 'nudging', 'waits', 'opposite', 'sugars', 'duckling', 'cuddle', 'boys', 'suffering', 'sacrament', 'profound', 'silence', 'pocket', 'rejected', 'brow', 'beaten', 'obssessed', 'embarrassing', 'joke', 'caught', 'tabbys', 'tabby', 'lover', 'fell', 'bare', 'minerals', 'shall', 'replenish', 'link', 'reprogramming', 'potential', 'trouble', 'sam', 'downright', 'whiny', 'mistakes', 'rivalry', 'invariably', 'rabbit', 'overstepping', 'slightest', 'terrifyingly', 'bound', 'limb', 'covers', 'hinderance', 'mildly', 'paralyzed', 'messy', 'fix', 'gown', 'silly', 'tagged', 'nauseated', 'heavy', 'strides', 'forehead', 'depths', 'effective', 'tool', 'mums', 'teleporter', 'cancer', 'peers', 'idiotic', 'describing', 'phrases', 'paul', 'walker', 'disappearance', 'torturing', 'assaulting', 'assessor', 'steve', 'helm', 'dumber', 'etc', 'snuffling', 'muscle', 'blade', 'region', 'excruciating', 'hacking', 'lungs', 'milk', 'lethargic', 'lest', 'plainly', 'outcast', 'exceptional', 'ethiopia', 'goosey', 'layer', 'tan', 'colour', 'queen', 'north', 'revealed', 'inhumanity', 'bloody', 'americans', 'bewildered', 'workouts', 'shushing', 'jet', 'lagged', 'daylight', 'hung', 'snoozing', 'pops', 'transform', 'bunny', 'maxim', 'forwards', 'encouragement', 'dissapeared', 'naked', 'nausea', 'unpleasantness', 'dr', 'zofran', 'justified', 'slighted', 'ungrateful', 'predicament', 'nightly', 'bel', 'including', 'ignored', 'unimportant', 'distress', 'ground', 'fondly', 'mary', 'eventuallythe', 'intense', 'sexual', 'lovein', 'condescend', 'puts', 'strength', 'wu', 'oneself', 'record', 'habit', 'rut', 'gents', 'hospital', 'damper', 'suck', 'cutter', 'seed', 'screaming', 'stitched', 'disrespectful', 'consider', 'hilly', 'youngest', 'cempaka', 'shorted', 'cheer', 'exception', 'entertains', 'uk', 'former', 'dovetail', 'images', 'objects', 'serve', 'ironic', 'whine', 'poor', 'sandy', 'catholic', 'communities', 'typical', 'sight', 'switzerlands', 'largest', 'graduating', 'absence', 'br', 'adult', 'pounds', 'correct', 'noob', 'pathetic', 'desperation', 'goods', 'essentially', 'adults', 'beverage', 'bulk', 'homework', 'increased', 'rapidly', 'pained', 'realised', 'shaking', 'thang', 'eighties', 'celebrating', 'ageing', 'pink', 'blackened', 'tribute', 'carole', 'karaoke', 'details', 'nofollow', 'compare', 'prices', 'img', 'hahaha', 'term', 'gaia', 'pushed', 'limit', 'spite', 'unintelligible', 'blabbering', 'duality', 'soul', 'associated', 'offers', 'hobbies', 'regularly', 'checked', 'besides', 'reasonably', 'deduce', 'grandfather', 'negate', 'lifetime', 'damage', 'unwanted', 'created', 'disappointing', 'prisoners', 'enter', 'hardly', 'supreme', 'incidence', 'grade', 'declare', 'firearm', 'sidebar', 'millionth', 'healed', 'kardashians', 'weekly', 'roseanne', 'marathons', 'ignoring', 'twitter', 'site', 'la', 'repeat', 'collect', 'powers', 'knowledge', 'advance', 'obligation', 'climbing', 'girlfriends', 'cuddling', 'injured', 'climbed', 'spectators', 'snapping', 'phones', 'disadvantaged', 'apparent', 'desk', 'dishes', 'piled', 'laundry', 'strewn', 'toys', 'unlovable', 'appear', 'risk', 'courtesy', 'available', 'curled', 'nest', 'morose', 'livid', 'behaviour', 'flare', 'regretful', 'conducted', 'onel', 'demons', 'creators', 'covered', 'eminent', 'figures', 'patriotic', 'epic', 'deeds', 'ablo', 'disaster', 'dollars', 'interactions', 'sufficiently', 'respectful', 'polite', 'ladies', 'abused', 'watchers', 'consisting', 'museli', 'yoghurt', 'fruit', 'plush', 'backs', 'seats', 'mournful', 'opening', 'swamps', 'swimming', 'muddy', 'aware', 'holds', 'needless', 'deaths', 'profession', 'qualified', 'discuss', 'reread', 'familiarity', 'unknowns', 'compliments', 'center', 'tunnel', 'heap', 'journaling', 'screeching', 'halt', 'repressed', 'vented', 'communicat', 'washed', 'reassurance', 'explains', 'reassures', 'cheese', 'small', 'quantities', 'accomplishment', 'prepared', 'donate', 'audrey', 'vein', 'insane', 'regulation', 'socialist', 'govrenment', 'concerning', 'pensions', 'everyones', 'wheel', 'views', 'uncommon', 'pathologically', 'parenting', 'ing', 'par', 'ashame', 'fuck', 'efforts', 'continuing', 'pursue', 'embarrass', 'suggesting', 'disorientating', 'convince', 'expressing', 'unexpected', 'intent', 'remains', 'unsuccessful', 'despairing', 'ugliness', 'society', 'annulled', 'released', 'tankouban', 'sold', 'thrilling', 'paid', 'deliveries', 'curb', 'knocking', 'smackdown', 'assume', 'bryan', 'simpler', 'folk', 'melodies', 'predictable', 'invitations', 'magic', 'famous', 'classical', 'luckily', 'plowing', 'chapter', 'became', 'juliemadblogger', 'swell', 'ruining', 'feelingof', 'resistance', 'receiving', 'surprising', 'eaten', 'complicating', 'undertaking', 'disturbed', 'supervisor', 'anti', 'polytechnic', 'oz', 'occassional', 'viewings', 'neighbours', 'rant', 'chriss', 'mundane', 'secondary', 'baked', 'bbw', 'calendar', 'systems', 'briefly', 'sarawak', 'lololol', 'typing', 'smashed', 'window', 'slid', 'dukes', 'hazzard', 'garage', 'glaring', 'void', 'cliche', 'pretending', 'heartbreaks', 'theyre', 'suffered', 'bs', 'flunked', 'heat', 'aversion', 'substances', 'weaker', 'tingly', 'evoked', 'grittily', 'aliens', 'wondering', 'cherishing', 'protection', 'nurtured', 'heal', 'realization', 'fleeting', 'mortality', 'weighing', 'leans', 'remotely', 'swore', 'distrust', 'systemic', 'pattern', 'abuse', 'mishandling', 'reports', 'service', 'understandably', 'wishing', 'defend', 'reputation', 'ass', 'thisisntcuteanymore', 'japan', 'pangs', 'decisions', 'induce', 'false', 'hoping', 'quote', 'metaphors', 'tumbling', 'slide', 'shortly', 'concrete', 'sorta', 'di', 'del', 'woeful', 'annual', 'easter', 'hike', 'mt', 'precipice', 'sunrise', 'regain', 'sore', 'burn', 'twist', 'knife', 'bleed', 'beg', 'crawl', 'chapters', 'praise', 'dickens', 'fews', 'starts', 'whoever', 'pants', 'cigarette', 'poachers', 'kill', 'pelts', 'ivory', 'severely', 'fishing', 'listed', 'student', 'unlike', 'fool', 'leslielandberg', 'racing', 'trials', 'worship', 'driving', 'sing', 'points', 'ticket', 'potty', 'train', 'communicate', 'agonising', 'sorrowful', 'darkness', 'episode', 'counting', 'picnic', 'contraction', 'epidural', 'induced', 'c', 'section', 'purely', 'skill', 'driven', 'becoz', 'autumn', 'absoloutely', 'stiffen', 'behaving', 'hopeless', 'apathetic', 'ruined', 'bachelors', 'acted', 'withdrawn', 'required', 'empathy', 'parenthood', 'piller', 'cling', 'despise', 'clinging', 'browsing', 'werent', 'aunt', 'flo', 'bloated', 'holy', 'feedback', 'housemates', 'listened', 'gerry', 'avoiding', 'moronic', 'bastard', 'whirlwind', 'courthouse', 'kentucky', 'betrayal', 'secretive', 'adopted', 'crimes', 'committed', 'intentionally', 'unintentionally', 'lucy', 'cursing', 'hyun', 'joongs', 'exponentially', 'farm', 'passes', 'aspect', 'refuse', 'jews', 'numbness', 'cornelius', 'demotivated', 'nitch', 'vt', 'toll', 'mk', 'player', 'starter', 'everblight', 'sara', 'couch', 'slap', 'carrot', 'sticks', 'gi', 'carrots', 'sugar', 'jamie', 'choke', 'wishes', 'ordinary', 'australia', 'request', 'flushed', 'embarrassment', 'spoil', 'transfer', 'sadness', 'stories', 'latley', 'lonley', 'bommie', 'dara', 'zane', 'lowe', 'spin', 'matched', 'apologize', 'choice', 'dates', 'clicked', 'loneliness', 'hypothermia', 'remained', 'balmy', 'judgmental', 'scenarios', 'trafficking', 'amounts', 'slavery', 'embittered', 'blunder', 'echo', 'wakes', 'sting', 'abandonment', 'advil', 'inflammation']\n",
      "\n",
      "surprise (98 palabras): ['stunned', 'shocked', 'handed', 'billiards', 'contractions', 'jared', 'jacked', 'pitocin', 'audiences', 'stage', 'ludicrous', 'trite', 'captured', 'atmospheric', 'landscapes', 'zhuo', 'feng', 'pupils', 'xiao', 'identity', 'main', 'entertaining', 'getin', 'age', 'carryout', 'tacos', 'spoken', 'development', 'movements', 'miraculous', 'helterskelter', 'plant', 'wotcs', 'behalf', 'fluffy', 'israeli', 'occupation', 'sinai', 'lasted', 'recognizing', 'sinais', 'history', 'threatening', 'friday', 'orders', 'homeowners', 'parked', 'gape', 'landscaping', 'impatience', 'rate', 'errands', 'cora', 'newborn', 'sleepers', 'previously', 'babies', 'scrapers', 'montana', 'intoxicating', 'impractical', 'actors', 'peter', 'distanced', 'forming', 'enthralled', 'options', 'proposed', 'backstabber', 'grounds', 'accusation', 'liberation', 'wonders', 'protective', 'amazon', 'barnes', 'noble', 'cents', 'length', 'ebook', 'charging', 'express', 'sorrow', 'rants', 'personality', 'genre', 'nails', 'skate', 'fast', 'stoup', 'destinys', 'blond', 'shock', 'miler', 'english', 'diseases', 'pearly', 'whites']\n"
     ]
    }
   ],
   "source": [
    "emociones = list(grupos.index)\n",
    "palabras_por_emocion = {}\n",
    "\n",
    "for x in emociones:\n",
    "    palabras = grupos[x]  \n",
    "    palabras_por_emocion[x] = []\n",
    "    for y in palabras:\n",
    "        if y not in palabras_por_emocion[x]:\n",
    "            palabras_por_emocion[x].append(y)\n",
    "\n",
    "for x in emociones:\n",
    "    propias = palabras_por_emocion[x]\n",
    "    otras = []\n",
    "    for y in emociones:\n",
    "        if y != x:\n",
    "            otras += palabras_por_emocion[y]\n",
    "\n",
    "  \n",
    "    exclusivas = []\n",
    "    for x in propias:\n",
    "        if x not in otras:\n",
    "            exclusivas.append(x)\n",
    "\n",
    "    print(f\"\\n{emocion} ({len(exclusivas)} palabras): {exclusivas}\") "
   ]
  },
  {
   "cell_type": "markdown",
   "id": "e0b8ed6d-c565-4a14-a90b-ff73bf71ce76",
   "metadata": {},
   "source": [
    "# Concluciones"
   ]
  },
  {
   "cell_type": "markdown",
   "id": "9a9dfa67-193f-4863-bb94-d4c2d5228f74",
   "metadata": {},
   "source": [
    "anger: \n",
    "Las palabras con mayor peso fueron:\n",
    "['greedy', 'insulted', 'stubborn', 'rushed', 'impatient', 'cranky', 'irritable', 'bitter', 'bitchy', 'bothered']\n",
    "Describen las cualidades de una persona frustrada, podemos decir que los comentarios etiquetados como anger suelen estar relacionados con la frustracion\n",
    "\n",
    "fear: \n",
    "Las palabras con mayor peso fueron:\n",
    "['pressured', 'restless', 'shy', 'doubtful', 'afraid', 'suspicious', 'uncertain', 'intimidated', 'shaky', 'distressed']\n",
    "Describen a una persona con baja autoestima, o personas intimidadas\n",
    "\n",
    "joy: \n",
    "Las palabras con mayor peso fueron:\n",
    "['perfect', 'acceptable', 'virtuous', 'valued', 'determined', 'honoured', 'relaxed', 'energetic', 'pleasant', 'worthwhile']\n",
    "Las palabras parecen ser cualidades de algun producto que es aceptado por las personas, son cualidades de una persona que puede alcanzar el exito facilmente\n",
    "\n",
    "love: \n",
    "Las palabras con mayor peso fueron:\n",
    "['tender', 'gentle', 'sympathetic', 'romantic', 'naughty', 'longing', 'supportive', 'delicate', 'loyal', 'supporting']\n",
    "Las palabras parecen ser cualidades que se busca en una persona cuando se trata de relacionarse de manera amorosa o amistosa\n",
    "\n",
    "sadness: \n",
    "Las palabras con mayor peso fueron:\n",
    "['dull', 'embarrassed', 'lonely', 'ashamed', 'ugly', 'defeated', 'humiliated', 'unwelcome', 'homesick', 'awful']\n",
    "Parecen describir algun tipo de fracaso o cualidades que son negativas \n",
    "\n",
    "surprise: \n",
    "Las palabras con mayor peso fueron:\n",
    "['strange', 'curious', 'shocked', 'handed', 'amazed', 'dazed', 'contractions', 'ludicrous', 'feng', 'age']\n",
    "Las palabras tienen que ver con algo nuevo y parece ser que es algo asobroso o que deja aturdido a las personas"
   ]
  }
 ],
 "metadata": {
  "kernelspec": {
   "display_name": "Python [conda env:base] *",
   "language": "python",
   "name": "conda-base-py"
  },
  "language_info": {
   "codemirror_mode": {
    "name": "ipython",
    "version": 3
   },
   "file_extension": ".py",
   "mimetype": "text/x-python",
   "name": "python",
   "nbconvert_exporter": "python",
   "pygments_lexer": "ipython3",
   "version": "3.12.7"
  }
 },
 "nbformat": 4,
 "nbformat_minor": 5
}
